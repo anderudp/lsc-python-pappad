{
 "cells": [
  {
   "cell_type": "markdown",
   "id": "98dac0b8",
   "metadata": {},
   "source": [
    "# Listák\n",
    "A Python legegyszerűbb gyűjteménye. A legtöbb programozási nyelvhez hasonlóan 0-tól indexelnek, azonban nincs az elemek számán szoftveres limit, és nem is kell előre meghatározni a méretét. Emellett tetszőleges típusú elemeket is helyezhetünk egy adott listába, nem kell előre meghatározni azt.\n",
    "## Listák létrehozása\n",
    "A listán szereplő elemeket szögletes zárójelek között adjuk meg, vesszővel elválasztva."
   ]
  },
  {
   "cell_type": "code",
   "execution_count": 1,
   "id": "d3ce2950",
   "metadata": {},
   "outputs": [],
   "source": [
    "empty_list = []\n",
    "\n",
    "my_list = ['Anna', 'Béla', 'Cecília', 'Dani', 'Ernő']"
   ]
  },
  {
   "cell_type": "markdown",
   "id": "c27d4541",
   "metadata": {},
   "source": [
    "## len(*lista*) &ndash; Listán szereplő elemek száma\n",
    "Hasonlóan a szövegek hosszához, a listákon szereplő elemek száma is a len() függvénnyel kérhető le. Ugyan 0-tól indexelünk, az elemek számolását ez nem befolyásolja."
   ]
  },
  {
   "cell_type": "code",
   "execution_count": 2,
   "id": "aabb0f4e",
   "metadata": {},
   "outputs": [
    {
     "name": "stdout",
     "output_type": "stream",
     "text": [
      "Az üres lista hossza: 0\n",
      "A my_list hossza: 5\n"
     ]
    }
   ],
   "source": [
    "print(\"Az üres lista hossza:\", len(empty_list))\n",
    "\n",
    "print(\"A my_list hossza:\", len(my_list))"
   ]
  },
  {
   "cell_type": "markdown",
   "id": "0a253e0a",
   "metadata": {},
   "source": [
    "## Listaelemek elérése\n",
    "A lista neve után egy szögletes zárójelben tudjuk megadni az indexet, ezzel lekérve az adott helyen szereplő elemet. Listaindex csak egész szám lehet."
   ]
  },
  {
   "cell_type": "code",
   "execution_count": 3,
   "id": "840e6a17",
   "metadata": {
    "scrolled": true
   },
   "outputs": [
    {
     "name": "stdout",
     "output_type": "stream",
     "text": [
      "A my_list első eleme: Anna\n",
      "A my_list második eleme: Béla\n",
      "A my_list ötödik eleme: Ernő\n"
     ]
    }
   ],
   "source": [
    "my_list = ['Anna', 'Béla', 'Cecília', 'Dani', 'Ernő']\n",
    "print(\"A my_list első eleme:\", my_list[0]) # Érdemes lehet ezt nulladik elemnek hívni, de nem bevett gyakorlat.\n",
    "print(\"A my_list második eleme:\", my_list[1])\n",
    "print(\"A my_list ötödik eleme:\", my_list[4])"
   ]
  },
  {
   "cell_type": "markdown",
   "id": "96c53cdb",
   "metadata": {},
   "source": [
    "Hogyha olyan indexet kérünk le, amely nem létezik a listában (pl. túl nagy), akkor hibát kapunk. Itt például az 5-ös indexű elemet kérjük le, amely gyakorlatban a hatodik elem lenne, amely nem létezik."
   ]
  },
  {
   "cell_type": "code",
   "execution_count": 4,
   "id": "1c1ba332",
   "metadata": {
    "scrolled": true,
    "tags": [
     "raises-exception"
    ]
   },
   "outputs": [
    {
     "ename": "IndexError",
     "evalue": "list index out of range",
     "output_type": "error",
     "traceback": [
      "\u001b[1;31m---------------------------------------------------------------------------\u001b[0m",
      "\u001b[1;31mIndexError\u001b[0m                                Traceback (most recent call last)",
      "Input \u001b[1;32mIn [4]\u001b[0m, in \u001b[0;36m<cell line: 1>\u001b[1;34m()\u001b[0m\n\u001b[1;32m----> 1\u001b[0m my_element \u001b[38;5;241m=\u001b[39m \u001b[43mmy_list\u001b[49m\u001b[43m[\u001b[49m\u001b[38;5;241;43m5\u001b[39;49m\u001b[43m]\u001b[49m\n",
      "\u001b[1;31mIndexError\u001b[0m: list index out of range"
     ]
    }
   ],
   "source": [
    "my_element = my_list[5]"
   ]
  },
  {
   "cell_type": "markdown",
   "id": "bcace29c",
   "metadata": {},
   "source": [
    "Az index segítségével egyszerűen módosíthatóak a lista adott helyen tárolt értékei."
   ]
  },
  {
   "cell_type": "code",
   "execution_count": 32,
   "id": "c7195095",
   "metadata": {},
   "outputs": [
    {
     "name": "stdout",
     "output_type": "stream",
     "text": [
      "A my_list frissített elemei: ['Anna', 'Béla', 'Cecília', 'Dávid', 'Ernő']\n"
     ]
    }
   ],
   "source": [
    "my_list = ['Anna', 'Béla', 'Cecília', 'Dani', 'Ernő']\n",
    "my_list[3] = \"Dávid\"\n",
    "print(\"A my_list frissített elemei:\", my_list)"
   ]
  },
  {
   "cell_type": "markdown",
   "id": "fe8a97e9",
   "metadata": {},
   "source": [
    "## Negatív listaindex\n",
    "Negatív indexet megadva le tudunk kérni a lista végétől, visszafele számítva is elemeket."
   ]
  },
  {
   "cell_type": "code",
   "execution_count": 5,
   "id": "d86cd25d",
   "metadata": {},
   "outputs": [
    {
     "name": "stdout",
     "output_type": "stream",
     "text": [
      "A my_list utolsó eleme: Ernő\n",
      "A my_list utolsó előtti eleme: Dani\n"
     ]
    }
   ],
   "source": [
    "my_list = ['Anna', 'Béla', 'Cecília', 'Dani', 'Ernő']\n",
    "print(\"A my_list utolsó eleme:\", my_list[-1])\n",
    "print(\"A my_list utolsó előtti eleme:\", my_list[-2]) "
   ]
  },
  {
   "cell_type": "markdown",
   "id": "78aa4982",
   "metadata": {},
   "source": [
    "Fontos megjegyezni, hogy az első elem 0 indexszel elérhető, az utolsó viszont -1-gyel, nem pedig -0-val. Ez azért van, mert számszakilag -0 = 0. \n",
    "\n",
    "Hasonlóan a pozitív listaindexekhez, itt is kívül tudunk esni a lista határain."
   ]
  },
  {
   "cell_type": "code",
   "execution_count": 7,
   "id": "abd94238",
   "metadata": {
    "scrolled": true,
    "tags": [
     "raises-exception"
    ]
   },
   "outputs": [
    {
     "ename": "IndexError",
     "evalue": "list index out of range",
     "output_type": "error",
     "traceback": [
      "\u001b[1;31m---------------------------------------------------------------------------\u001b[0m",
      "\u001b[1;31mIndexError\u001b[0m                                Traceback (most recent call last)",
      "Input \u001b[1;32mIn [7]\u001b[0m, in \u001b[0;36m<cell line: 1>\u001b[1;34m()\u001b[0m\n\u001b[1;32m----> 1\u001b[0m my_element \u001b[38;5;241m=\u001b[39m \u001b[43mmy_list\u001b[49m\u001b[43m[\u001b[49m\u001b[38;5;241;43m-\u001b[39;49m\u001b[38;5;241;43m6\u001b[39;49m\u001b[43m]\u001b[49m\n",
      "\u001b[1;31mIndexError\u001b[0m: list index out of range"
     ]
    }
   ],
   "source": [
    "my_element = my_list[-6]"
   ]
  },
  {
   "cell_type": "markdown",
   "id": "89f209b1",
   "metadata": {},
   "source": [
    "## Listaelem módosítása index alapján\n",
    "A kívánt indexen lévő elem felülírható az értékadó = operátorral."
   ]
  },
  {
   "cell_type": "code",
   "execution_count": 18,
   "id": "d6b1b2d3",
   "metadata": {},
   "outputs": [
    {
     "name": "stdout",
     "output_type": "stream",
     "text": [
      "Módosított my_list: ['Anna', 'Béla', 'Csenge', 'Dani', 'Ernő']\n"
     ]
    }
   ],
   "source": [
    "my_list = ['Anna', 'Béla', 'Cecília', 'Dani', 'Ernő']\n",
    "my_list[2] = 'Csenge'\n",
    "print(\"Módosított my_list:\", my_list)"
   ]
  },
  {
   "cell_type": "markdown",
   "id": "4730afa0",
   "metadata": {},
   "source": [
    "## Listaelemek cseréje\n",
    "Indexeik alapján megcserélhetőek az elemek. A bal oldal a kiindulási állapot, a jobb oldal pedig a kívánt végállapotot jelöli."
   ]
  },
  {
   "cell_type": "code",
   "execution_count": 17,
   "id": "4f0d5d10",
   "metadata": {
    "scrolled": true
   },
   "outputs": [
    {
     "name": "stdout",
     "output_type": "stream",
     "text": [
      "Első csere: ['Cecília', 'Béla', 'Anna', 'Dani', 'Ernő']\n"
     ]
    }
   ],
   "source": [
    "my_list = ['Anna', 'Béla', 'Cecília', 'Dani', 'Ernő']\n",
    "my_list[0], my_list[2] = my_list[2], my_list[0]\n",
    "print(\"Első csere:\", my_list)"
   ]
  },
  {
   "cell_type": "markdown",
   "id": "1d51fc62",
   "metadata": {},
   "source": [
    "## List slicing &ndash; Több elem lekérése\n",
    "A Python engedi, hogy kiválasszuk a listánk egy összefüggő részét két index között. Ilyenkor két indexszel határozzuk meg a kiválasztani kívánt összefüggő listarészt, és ezeket kettősponttal választjuk el egymástól. A bal oldali szám a kezdőindex, ez lesz az első elem, ami ki lesz választva. A jobb oldali a végső index, amely jelöli, meddig menjen a kiválasztás. A végső index által megjelölt elem maga azonban nem kerül bele a kiválasztásba, előtte megáll."
   ]
  },
  {
   "cell_type": "code",
   "execution_count": 14,
   "id": "7ae3d119",
   "metadata": {
    "scrolled": true
   },
   "outputs": [
    {
     "name": "stdout",
     "output_type": "stream",
     "text": [
      "A lista első 3 eleme: ['Anna', 'Béla', 'Cecília']\n",
      "A lista utolsó 3 eleme: ['Cecília', 'Dani', 'Ernő']\n"
     ]
    }
   ],
   "source": [
    "my_list = ['Anna', 'Béla', 'Cecília', 'Dani', 'Ernő']\n",
    "\n",
    "first_three = my_list[0:3]\n",
    "print(\"A lista első 3 eleme:\", first_three)\n",
    "\n",
    "last_three = my_list[2:len(my_list)] # A lista hossza eggyel nagyobb, mint az utolsó elem indexe, ezért tökéletes erre a célra\n",
    "print(\"A lista utolsó 3 eleme:\", last_three)"
   ]
  },
  {
   "cell_type": "markdown",
   "id": "fdf0fa36",
   "metadata": {},
   "source": [
    "Ebben a példában megfigyelhető, hogy a 0 indexű elem ('Anna') bekerült az újonnan létrehozott listába, míg a 3 indexű elem ('Dani') nem.\n",
    "\n",
    "Alapjáraton ez a kiválasztás egy új listába történik meg (a fenti példában a first_three és last_three listák), de lehetséges élből külön változókba helyezni a kiválasztott elemeket."
   ]
  },
  {
   "cell_type": "code",
   "execution_count": 12,
   "id": "9db062de",
   "metadata": {},
   "outputs": [
    {
     "name": "stdout",
     "output_type": "stream",
     "text": [
      "Második elem: Béla\n",
      "Harmadik elem: Cecília\n",
      "Negyedik elem: Dani\n",
      "Ötödik elem: Ernő\n"
     ]
    }
   ],
   "source": [
    "second, third, fourth, fifth = my_list[1:5]\n",
    "print(\"Második elem:\", second)\n",
    "print(\"Harmadik elem:\", third)\n",
    "print(\"Negyedik elem:\", fourth)\n",
    "print(\"Ötödik elem:\", fifth)"
   ]
  },
  {
   "cell_type": "markdown",
   "id": "bbf33c4c",
   "metadata": {},
   "source": [
    "Amennyiben a lista első elemétől akarunk kiválasztani, akkor a bal oldali 0-t ki se kell írnunk, bevett gyakorlat elhagyni azt."
   ]
  },
  {
   "cell_type": "code",
   "execution_count": 17,
   "id": "6c99bde0",
   "metadata": {},
   "outputs": [
    {
     "name": "stdout",
     "output_type": "stream",
     "text": [
      "A lista első 4 eleme: ['Anna', 'Béla', 'Cecília', 'Dani']\n"
     ]
    }
   ],
   "source": [
    "my_list = ['Anna', 'Béla', 'Cecília', 'Dani', 'Ernő']\n",
    "first_four = my_list[:4]\n",
    "print(\"A lista első 4 eleme:\", first_four)"
   ]
  },
  {
   "cell_type": "markdown",
   "id": "546c8f7f",
   "metadata": {},
   "source": [
    "Hasonlóképpen, amennyiben egy adott ponttól a lista legvégéig akarunk kiválasztani, akkor a jobb oldali len(lista) sem szükséges."
   ]
  },
  {
   "cell_type": "code",
   "execution_count": 16,
   "id": "270246d2",
   "metadata": {},
   "outputs": [
    {
     "name": "stdout",
     "output_type": "stream",
     "text": [
      "A lista utolsó 4 eleme: ['Béla', 'Cecília', 'Dani', 'Ernő']\n"
     ]
    }
   ],
   "source": [
    "my_list = ['Anna', 'Béla', 'Cecília', 'Dani', 'Ernő']\n",
    "last_four = my_list[-4:] # Itt a negatív indexszel megjelöltük kezdő indexnek a 4-gyel utolsó előtti elemet\n",
    "print(\"A lista utolsó 4 eleme:\", last_four)"
   ]
  },
  {
   "cell_type": "markdown",
   "id": "673de0d3",
   "metadata": {},
   "source": [
    "Ezt a kettőt kombinálva képesek vagyunk a lista összes elemét kiválasztani."
   ]
  },
  {
   "cell_type": "code",
   "execution_count": 18,
   "id": "d676ebf3",
   "metadata": {},
   "outputs": [
    {
     "name": "stdout",
     "output_type": "stream",
     "text": [
      "Az új lista tartalma: ['Anna', 'Béla', 'Cecília', 'Dani', 'Ernő']\n"
     ]
    }
   ],
   "source": [
    "my_list = ['Anna', 'Béla', 'Cecília', 'Dani', 'Ernő']\n",
    "new_list = my_list[:]\n",
    "print(\"Az új lista tartalma:\", new_list)"
   ]
  },
  {
   "cell_type": "markdown",
   "id": "13327452",
   "metadata": {},
   "source": [
    "Ez azért hasznos, mert így tudunk legegyszerűbben egy független másolatot létrehozni egy adott listáról. Ez a másolat külön kerül tárolásra a memóriában, így a módosítása nem befolyásolja az eredetit, sem fordítva.\n",
    "\n",
    "Intuitívan az alábbi módon másolnánk le egy listát:"
   ]
  },
  {
   "cell_type": "code",
   "execution_count": 24,
   "id": "e920764f",
   "metadata": {},
   "outputs": [],
   "source": [
    "my_list = ['Anna', 'Béla', 'Cecília', 'Dani', 'Ernő']\n",
    "other_my_list = my_list"
   ]
  },
  {
   "cell_type": "markdown",
   "id": "ebe97eda",
   "metadata": {},
   "source": [
    "Ebben a példában azonban csak egy újabb nevet adtunk ugyanannak a listának, a memóriában ugyanarra az elemre mutat a két változónév. Ezért aztán ha az egyiket módosítjuk, a másik is módosul."
   ]
  },
  {
   "cell_type": "code",
   "execution_count": 31,
   "id": "be7ed592",
   "metadata": {},
   "outputs": [
    {
     "name": "stdout",
     "output_type": "stream",
     "text": [
      "Az my_list tartalma: ['Anna', 'Béla', 'Cecília', 'Dani', 'Ernő']\n",
      "A másik my_list tartalma: ['Anna', 'Béla', 'Xénia', 'Dani', 'Dzsenifer']\n",
      "\n",
      "Az my_list tartalma: ['Anna', 'Béla', 'Xénia', 'Dani', 'Ernő']\n",
      "A másik my_list tartalma: ['Anna', 'Béla', 'Xénia', 'Dani', 'Dzsenifer']\n"
     ]
    }
   ],
   "source": [
    "my_list = ['Anna', 'Béla', 'Cecília', 'Dani', 'Ernő']\n",
    "print(\"Az my_list tartalma:\", my_list)\n",
    "print(\"A másik my_list tartalma:\", other_my_list)\n",
    "\n",
    "my_list[2] = 'Xénia'\n",
    "print() # Üres sor az átláthatóság kedvéért\n",
    "\n",
    "print(\"Az my_list tartalma:\", my_list)\n",
    "print(\"A másik my_list tartalma:\", other_my_list)"
   ]
  },
  {
   "cell_type": "markdown",
   "id": "f652dcc7",
   "metadata": {},
   "source": [
    "## Listafüggvények\n",
    "### .append(*új elem*) &ndash; Elem hozzácsatolása listához\n",
    "A lista végére helyezi az argumentumként megadott elemet. A lista hossza így eggyel megnő."
   ]
  },
  {
   "cell_type": "code",
   "execution_count": 34,
   "id": "bafa5ebb",
   "metadata": {},
   "outputs": [
    {
     "name": "stdout",
     "output_type": "stream",
     "text": [
      "A my_list kibővítve: ['Anna', 'Béla', 'Cecília', 'Dani', 'Ernő', 'Feri']\n"
     ]
    }
   ],
   "source": [
    "my_list = ['Anna', 'Béla', 'Cecília', 'Dani', 'Ernő']\n",
    "my_list.append('Feri')\n",
    "print(\"A my_list kibővítve:\", my_list)"
   ]
  },
  {
   "cell_type": "markdown",
   "id": "d92754c8",
   "metadata": {},
   "source": [
    "### .insert(*index*, *új elem*) &ndash; Elem beillesztése listába\n",
    "Ezzel a függvénnyel a lista tetszőleges indexére tudunk elemet beilleszteni. Két paramétert vár: az indexet, illetve a behelyezni kívánt elemet. Az utána lévő elemeket \"eltolja\"."
   ]
  },
  {
   "cell_type": "code",
   "execution_count": 36,
   "id": "18dae4cc",
   "metadata": {},
   "outputs": [
    {
     "name": "stdout",
     "output_type": "stream",
     "text": [
      "A my_list kiegészítve: ['Anna', 'Béla', 'Cecília', 'Dani', 'Dimitrij', 'Ernő']\n"
     ]
    }
   ],
   "source": [
    "my_list = ['Anna', 'Béla', 'Cecília', 'Dani', 'Ernő']\n",
    "my_list.insert(4, \"Dimitrij\")\n",
    "print(\"A my_list kiegészítve:\", my_list)"
   ]
  },
  {
   "cell_type": "markdown",
   "id": "b0632db0",
   "metadata": {},
   "source": [
    "Ha az index nagyobb, mint vagy egyenlő a lista hosszával, a lista végére kerül az elem."
   ]
  },
  {
   "cell_type": "code",
   "execution_count": 37,
   "id": "959b5495",
   "metadata": {},
   "outputs": [
    {
     "name": "stdout",
     "output_type": "stream",
     "text": [
      "A my_list kiegészítve: ['Anna', 'Béla', 'Cecília', 'Dani', 'Ernő', 'Kobayashi']\n"
     ]
    }
   ],
   "source": [
    "my_list = ['Anna', 'Béla', 'Cecília', 'Dani', 'Ernő']\n",
    "my_list.insert(11, \"Kobayashi\")\n",
    "print(\"A my_list kiegészítve:\", my_list)"
   ]
  },
  {
   "cell_type": "markdown",
   "id": "872e2d16",
   "metadata": {},
   "source": [
    "Ennél a függvénynél is használható negatív listaindex, ilyenkor hátulról visszafele számolva helyezi be az elemet."
   ]
  },
  {
   "cell_type": "code",
   "execution_count": 45,
   "id": "1d738463",
   "metadata": {},
   "outputs": [
    {
     "name": "stdout",
     "output_type": "stream",
     "text": [
      "A my_list kiegészítve: ['Anna', 'Arsène', 'Béla', 'Cecília', 'Dani', 'Ernő']\n"
     ]
    }
   ],
   "source": [
    "my_list = ['Anna', 'Béla', 'Cecília', 'Dani', 'Ernő']\n",
    "my_list.insert(-4, \"Arsène\")\n",
    "print(\"A my_list kiegészítve:\", my_list)"
   ]
  },
  {
   "cell_type": "markdown",
   "id": "0205d97d",
   "metadata": {},
   "source": [
    "### .extend(*másik gyűjtemény*) &ndash; Lista bővítése más gyűjteménnyel\n",
    "Bővíti a gyűjteményt a paraméterként megadott gyűjteménnyel. Itt egy listát lényegében rácsatolunk a már meglévő listánkra."
   ]
  },
  {
   "cell_type": "code",
   "execution_count": 1,
   "id": "8ad1c136",
   "metadata": {},
   "outputs": [
    {
     "name": "stdout",
     "output_type": "stream",
     "text": [
      "Kibővített lista: ['Anna', 'Béla', 'Cecília', 'Dani', 'Ernő', 'Feri', 'Gergő', 'Hermina']\n"
     ]
    }
   ],
   "source": [
    "my_list = ['Anna', 'Béla', 'Cecília', 'Dani', 'Ernő']\n",
    "other_list = ['Feri', 'Gergő', 'Hermina']\n",
    "my_list.extend(other_list)\n",
    "print(\"Kibővített lista:\", my_list)"
   ]
  },
  {
   "cell_type": "markdown",
   "id": "ba85ce87",
   "metadata": {},
   "source": [
    "Egy elemet nem tudunk ráhelyezni így a listánkra, az extend specifikusan a gyűjteményekre lett kitalálva."
   ]
  },
  {
   "cell_type": "code",
   "execution_count": 4,
   "id": "e5f83b73",
   "metadata": {
    "scrolled": true,
    "tags": [
     "raises-exception"
    ]
   },
   "outputs": [
    {
     "ename": "TypeError",
     "evalue": "'int' object is not iterable",
     "output_type": "error",
     "traceback": [
      "\u001b[1;31m---------------------------------------------------------------------------\u001b[0m",
      "\u001b[1;31mTypeError\u001b[0m                                 Traceback (most recent call last)",
      "Input \u001b[1;32mIn [4]\u001b[0m, in \u001b[0;36m<cell line: 3>\u001b[1;34m()\u001b[0m\n\u001b[0;32m      1\u001b[0m my_list \u001b[38;5;241m=\u001b[39m [\u001b[38;5;124m'\u001b[39m\u001b[38;5;124mAnna\u001b[39m\u001b[38;5;124m'\u001b[39m, \u001b[38;5;124m'\u001b[39m\u001b[38;5;124mBéla\u001b[39m\u001b[38;5;124m'\u001b[39m, \u001b[38;5;124m'\u001b[39m\u001b[38;5;124mCecília\u001b[39m\u001b[38;5;124m'\u001b[39m, \u001b[38;5;124m'\u001b[39m\u001b[38;5;124mDani\u001b[39m\u001b[38;5;124m'\u001b[39m, \u001b[38;5;124m'\u001b[39m\u001b[38;5;124mErnő\u001b[39m\u001b[38;5;124m'\u001b[39m]\n\u001b[0;32m      2\u001b[0m other_element \u001b[38;5;241m=\u001b[39m \u001b[38;5;241m123\u001b[39m\n\u001b[1;32m----> 3\u001b[0m \u001b[43mmy_list\u001b[49m\u001b[38;5;241;43m.\u001b[39;49m\u001b[43mextend\u001b[49m\u001b[43m(\u001b[49m\u001b[43mother_element\u001b[49m\u001b[43m)\u001b[49m\n\u001b[0;32m      4\u001b[0m \u001b[38;5;28mprint\u001b[39m(\u001b[38;5;124m\"\u001b[39m\u001b[38;5;124mKibővített lista:\u001b[39m\u001b[38;5;124m\"\u001b[39m, my_list)\n",
      "\u001b[1;31mTypeError\u001b[0m: 'int' object is not iterable"
     ]
    }
   ],
   "source": [
    "my_list = ['Anna', 'Béla', 'Cecília', 'Dani', 'Ernő']\n",
    "other_element = 123\n",
    "my_list.extend(other_element)\n",
    "print(\"Kibővített lista:\", my_list)"
   ]
  },
  {
   "cell_type": "markdown",
   "id": "bd3c80d4",
   "metadata": {},
   "source": [
    "Amennyiben azonban egy str szöveget helyeznénk extend-del a listánkra, nem kapunk hibát, mivel a str objektumok írásjelek gyűjteményei. Azonban ilyenkor az egyes írásjelek külön listaelemként kerülnek fel a céllistára."
   ]
  },
  {
   "cell_type": "code",
   "execution_count": 5,
   "id": "143568bb",
   "metadata": {},
   "outputs": [
    {
     "name": "stdout",
     "output_type": "stream",
     "text": [
      "Kibővített lista: ['Anna', 'Béla', 'Cecília', 'Dani', 'Ernő', 'F', 'e', 'r', 'i']\n"
     ]
    }
   ],
   "source": [
    "my_list = ['Anna', 'Béla', 'Cecília', 'Dani', 'Ernő']\n",
    "other_element = 'Feri'\n",
    "my_list.extend(other_element)\n",
    "print(\"Kibővített lista:\", my_list)"
   ]
  },
  {
   "cell_type": "markdown",
   "id": "1c37d859",
   "metadata": {},
   "source": [
    "### .pop(*index*) &ndash; Elem eltávolítása index alapján\n",
    "Az argumentumként megadott index helyén lévő elem eltávolításra kerül."
   ]
  },
  {
   "cell_type": "code",
   "execution_count": 6,
   "id": "f6c1e5da",
   "metadata": {},
   "outputs": [
    {
     "name": "stdout",
     "output_type": "stream",
     "text": [
      "Lista a 2 indexű elemet eltávolítva: ['Anna', 'Béla', 'Dani', 'Ernő']\n"
     ]
    }
   ],
   "source": [
    "my_list = ['Anna', 'Béla', 'Cecília', 'Dani', 'Ernő']\n",
    "my_list.pop(2)\n",
    "print(\"Lista a 2 indexű elemet eltávolítva:\", my_list)"
   ]
  },
  {
   "cell_type": "markdown",
   "id": "2099b27f",
   "metadata": {},
   "source": [
    "Negatív indexek is használhatóak."
   ]
  },
  {
   "cell_type": "code",
   "execution_count": 7,
   "id": "2e47a767",
   "metadata": {},
   "outputs": [
    {
     "name": "stdout",
     "output_type": "stream",
     "text": [
      "Lista a -2 indexű elemet eltávolítva: ['Anna', 'Béla', 'Cecília', 'Ernő']\n"
     ]
    }
   ],
   "source": [
    "my_list = ['Anna', 'Béla', 'Cecília', 'Dani', 'Ernő']\n",
    "my_list.pop(-2)\n",
    "print(\"Lista a -2 indexű elemet eltávolítva:\", my_list)"
   ]
  },
  {
   "cell_type": "markdown",
   "id": "2981d8ee",
   "metadata": {},
   "source": [
    "Ha túl nagy, vagy túl negatív az index, hibát kapunk, hisz nem létező elemet próbálnánk eltávolítani."
   ]
  },
  {
   "cell_type": "code",
   "execution_count": 8,
   "id": "af27524d",
   "metadata": {
    "tags": [
     "raises-exception"
    ]
   },
   "outputs": [
    {
     "ename": "IndexError",
     "evalue": "pop index out of range",
     "output_type": "error",
     "traceback": [
      "\u001b[1;31m---------------------------------------------------------------------------\u001b[0m",
      "\u001b[1;31mIndexError\u001b[0m                                Traceback (most recent call last)",
      "Input \u001b[1;32mIn [8]\u001b[0m, in \u001b[0;36m<cell line: 2>\u001b[1;34m()\u001b[0m\n\u001b[0;32m      1\u001b[0m my_list \u001b[38;5;241m=\u001b[39m [\u001b[38;5;124m'\u001b[39m\u001b[38;5;124mAnna\u001b[39m\u001b[38;5;124m'\u001b[39m, \u001b[38;5;124m'\u001b[39m\u001b[38;5;124mBéla\u001b[39m\u001b[38;5;124m'\u001b[39m, \u001b[38;5;124m'\u001b[39m\u001b[38;5;124mCecília\u001b[39m\u001b[38;5;124m'\u001b[39m, \u001b[38;5;124m'\u001b[39m\u001b[38;5;124mDani\u001b[39m\u001b[38;5;124m'\u001b[39m, \u001b[38;5;124m'\u001b[39m\u001b[38;5;124mErnő\u001b[39m\u001b[38;5;124m'\u001b[39m]\n\u001b[1;32m----> 2\u001b[0m \u001b[43mmy_list\u001b[49m\u001b[38;5;241;43m.\u001b[39;49m\u001b[43mpop\u001b[49m\u001b[43m(\u001b[49m\u001b[38;5;241;43m12\u001b[39;49m\u001b[43m)\u001b[49m\n\u001b[0;32m      3\u001b[0m \u001b[38;5;28mprint\u001b[39m(\u001b[38;5;124m\"\u001b[39m\u001b[38;5;124mLista a -2 indexű elemet eltávolítva:\u001b[39m\u001b[38;5;124m\"\u001b[39m, my_list)\n",
      "\u001b[1;31mIndexError\u001b[0m: pop index out of range"
     ]
    }
   ],
   "source": [
    "my_list = ['Anna', 'Béla', 'Cecília', 'Dani', 'Ernő']\n",
    "my_list.pop(12)\n",
    "print(\"Lista a -2 indexű elemet eltávolítva:\", my_list)"
   ]
  },
  {
   "cell_type": "markdown",
   "id": "3c394e30",
   "metadata": {},
   "source": [
    "### .remove(*eltávolítandó elem*) &ndash; Elem eltávolítása érték alapján\n",
    "Eltávolítja az első olyan elemet a listáról, amelynek egyezik az értéke az argumentummal."
   ]
  },
  {
   "cell_type": "code",
   "execution_count": 10,
   "id": "4303428a",
   "metadata": {},
   "outputs": [
    {
     "name": "stdout",
     "output_type": "stream",
     "text": [
      "Lista 'Dani' elemet eltávolítva: ['Anna', 'Béla', 'Cecília', 'Ernő']\n"
     ]
    }
   ],
   "source": [
    "my_list = ['Anna', 'Béla', 'Cecília', 'Dani', 'Ernő']\n",
    "my_list.remove('Dani')\n",
    "print(\"Lista 'Dani' elemet eltávolítva:\", my_list)"
   ]
  },
  {
   "cell_type": "markdown",
   "id": "98b3f005",
   "metadata": {},
   "source": [
    "Hogyha több ugyanolyan elem is van a listán, akkor csak az elsőt távolítja el."
   ]
  },
  {
   "cell_type": "code",
   "execution_count": 11,
   "id": "9e6dd1d0",
   "metadata": {},
   "outputs": [
    {
     "name": "stdout",
     "output_type": "stream",
     "text": [
      "Lista az első 'Béla' elemet eltávolítva: ['Anna', 'Cecília', 'Béla', 'Dani', 'Ernő']\n"
     ]
    }
   ],
   "source": [
    "my_list = ['Anna', 'Béla', 'Cecília', 'Béla', 'Dani', 'Ernő']\n",
    "my_list.remove('Béla')\n",
    "print(\"Lista az első 'Béla' elemet eltávolítva:\", my_list)"
   ]
  },
  {
   "cell_type": "markdown",
   "id": "adab4ac1",
   "metadata": {},
   "source": [
    "Ha nem létező elemet próbálunk eltávolítani, hibát kapunk."
   ]
  },
  {
   "cell_type": "code",
   "execution_count": 12,
   "id": "23910cf6",
   "metadata": {
    "tags": [
     "raises-exception"
    ]
   },
   "outputs": [
    {
     "ename": "ValueError",
     "evalue": "list.remove(x): x not in list",
     "output_type": "error",
     "traceback": [
      "\u001b[1;31m---------------------------------------------------------------------------\u001b[0m",
      "\u001b[1;31mValueError\u001b[0m                                Traceback (most recent call last)",
      "Input \u001b[1;32mIn [12]\u001b[0m, in \u001b[0;36m<cell line: 2>\u001b[1;34m()\u001b[0m\n\u001b[0;32m      1\u001b[0m my_list \u001b[38;5;241m=\u001b[39m [\u001b[38;5;124m'\u001b[39m\u001b[38;5;124mAnna\u001b[39m\u001b[38;5;124m'\u001b[39m, \u001b[38;5;124m'\u001b[39m\u001b[38;5;124mBéla\u001b[39m\u001b[38;5;124m'\u001b[39m, \u001b[38;5;124m'\u001b[39m\u001b[38;5;124mCecília\u001b[39m\u001b[38;5;124m'\u001b[39m, \u001b[38;5;124m'\u001b[39m\u001b[38;5;124mDani\u001b[39m\u001b[38;5;124m'\u001b[39m, \u001b[38;5;124m'\u001b[39m\u001b[38;5;124mErnő\u001b[39m\u001b[38;5;124m'\u001b[39m]\n\u001b[1;32m----> 2\u001b[0m \u001b[43mmy_list\u001b[49m\u001b[38;5;241;43m.\u001b[39;49m\u001b[43mremove\u001b[49m\u001b[43m(\u001b[49m\u001b[38;5;124;43m'\u001b[39;49m\u001b[38;5;124;43mGyuri\u001b[39;49m\u001b[38;5;124;43m'\u001b[39;49m\u001b[43m)\u001b[49m\n",
      "\u001b[1;31mValueError\u001b[0m: list.remove(x): x not in list"
     ]
    }
   ],
   "source": [
    "my_list = ['Anna', 'Béla', 'Cecília', 'Dani', 'Ernő']\n",
    "my_list.remove('Gyuri')"
   ]
  },
  {
   "cell_type": "markdown",
   "id": "3b12d9b0",
   "metadata": {},
   "source": []
  }
 ],
 "metadata": {
  "celltoolbar": "Tags",
  "kernelspec": {
   "display_name": "Python 3 (ipykernel)",
   "language": "python",
   "name": "python3"
  },
  "language_info": {
   "codemirror_mode": {
    "name": "ipython",
    "version": 3
   },
   "file_extension": ".py",
   "mimetype": "text/x-python",
   "name": "python",
   "nbconvert_exporter": "python",
   "pygments_lexer": "ipython3",
   "version": "3.10.6"
  }
 },
 "nbformat": 4,
 "nbformat_minor": 5
}
