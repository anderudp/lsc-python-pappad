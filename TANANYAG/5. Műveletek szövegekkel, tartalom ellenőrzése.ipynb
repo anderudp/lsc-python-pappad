{
 "cells": [
  {
   "cell_type": "markdown",
   "id": "232c9e8d",
   "metadata": {},
   "source": [
    "# Szövegek\n",
    "Szövegek tartalmának kódalapú módosítása, lekérdezések.\n",
    "\n",
    "## .replace(*régi szövegrész*, *új szövegrész*) – Szövegrész cseréje\n",
    "A \\[szöveg\\].replace() bővítő függvénnyel algoritmikusan ki tudunk cserélni a szövegünkben egy kívánt részt valami másra. Két argumentumot fogad: az első az, amit le szeretnénk cserélni, a második pedig az, amire cserélnénk. A függvény érzékeny a kis- és nagybetűk közti különbségre."
   ]
  },
  {
   "cell_type": "code",
   "execution_count": 1,
   "id": "8d510f25",
   "metadata": {},
   "outputs": [
    {
     "name": "stdout",
     "output_type": "stream",
     "text": [
      "A mitokondrium a sejt erőműve. \n",
      "Az általa termelt energia egy adenazin-trifoszfát nevű apró molekulában kerül tárolásra.\n",
      "\n",
      "A 😳itokondriu😳 a sejt erő😳űve. \n",
      "Az általa ter😳elt energia egy adenazin-trifoszfát nevű apró 😳olekulában kerül tárolásra.\n",
      "\n",
      "A MmMmmmMitokondriuMmMmmmM a sejt erőMmMmmmMűve. \n",
      "Az általa terMmMmmmMelt energia egy adenazin-trifoszfát nevű apró MmMmmmMolekulában kerül tárolásra.\n",
      "\n",
      "A mitokondrium a sejt erőműve. \n",
      "Az általa termelt energia egy adenazin-trifoszfát nevű apró molekulában kerül tárolásra.\n"
     ]
    }
   ],
   "source": [
    "example = \"A mitokondrium a sejt erőműve. \\nAz általa termelt energia egy adenazin-trifoszfát nevű apró molekulában kerül tárolásra.\"\n",
    "print(example)\n",
    "\n",
    "print() # üres sor az átláthatóság kedvéért\n",
    "\n",
    "example = example.replace('m', '😳')\n",
    "print(example)\n",
    "\n",
    "print()\n",
    "\n",
    "new_example = example.replace('😳', 'MmMmmmM')\n",
    "print(new_example)\n",
    "\n",
    "print()\n",
    "\n",
    "new_example = new_example.replace('MmMmmmM', 'm')\n",
    "print(new_example)"
   ]
  },
  {
   "cell_type": "markdown",
   "id": "3f259216",
   "metadata": {},
   "source": [
    "Fontos megjegyezni, hogy ezek a függvények létrehozzák ugyan az új szöveget, de nem töltik be automatikusan sehová, nem mentik el. Nekünk kell meghatározni, melyik változóba kerüljön mentésre. Tehát az alábbi kód ugyan nem fog hibát adni, de nem változtatja meg a változóban tárolt értéket."
   ]
  },
  {
   "cell_type": "code",
   "execution_count": 2,
   "id": "658c8e3c",
   "metadata": {
    "scrolled": true
   },
   "outputs": [
    {
     "name": "stdout",
     "output_type": "stream",
     "text": [
      "A mitokondrium a sejt erőműve. \n",
      "Az általa termelt energia egy adenazin-trifoszfát nevű apró molekulában kerül tárolásra.\n",
      "\n",
      "A mitokondrium a sejt erőműve. \n",
      "Az általa termelt energia egy adenazin-trifoszfát nevű apró molekulában kerül tárolásra.\n"
     ]
    }
   ],
   "source": [
    "example = \"A mitokondrium a sejt erőműve. \\nAz általa termelt energia egy adenazin-trifoszfát nevű apró molekulában kerül tárolásra.\"\n",
    "print(example)\n",
    "\n",
    "print()\n",
    "\n",
    "example.replace('m', '😳')\n",
    "print(example)"
   ]
  },
  {
   "cell_type": "markdown",
   "id": "77818032",
   "metadata": {},
   "source": [
    "További tulajdonsága ezeknek a függvényeknek, hogy amennyiben nem változtatnak meg semmit (tehát pl. a lecserélendő szövegrész nem szerepel a szövegben), nem dobnak hibát. Egyszerűen csak nem csinálnak semmi észrevehetőt."
   ]
  },
  {
   "cell_type": "markdown",
   "id": "8738b6c0",
   "metadata": {},
   "source": [
    "## .upper() – Nagybetűssé alakítás"
   ]
  },
  {
   "cell_type": "code",
   "execution_count": 3,
   "id": "5defbb74",
   "metadata": {},
   "outputs": [
    {
     "name": "stdout",
     "output_type": "stream",
     "text": [
      "A MITOKONDRIUM A SEJT ERŐMŰVE. \n",
      "AZ ÁLTALA TERMELT ENERGIA EGY ADENAZIN-TRIFOSZFÁT NEVŰ APRÓ MOLEKULÁBAN KERÜL TÁROLÁSRA.\n"
     ]
    }
   ],
   "source": [
    "example = \"A mitokondrium a sejt erőműve. \\nAz általa termelt energia egy adenazin-trifoszfát nevű apró molekulában kerül tárolásra.\"\n",
    "print(example.upper())"
   ]
  },
  {
   "cell_type": "markdown",
   "id": "32e467ab",
   "metadata": {},
   "source": [
    "## .lower() – Kisbetűssé alakítás"
   ]
  },
  {
   "cell_type": "code",
   "execution_count": 4,
   "id": "c24bac33",
   "metadata": {},
   "outputs": [
    {
     "name": "stdout",
     "output_type": "stream",
     "text": [
      "a mitokondrium a sejt erőműve. \n",
      "az általa termelt energia egy adenazin-trifoszfát nevű apró molekulában kerül tárolásra.\n"
     ]
    }
   ],
   "source": [
    "example = \"A mitokondrium a sejt erőműve. \\nAz általa termelt energia egy adenazin-trifoszfát nevű apró molekulában kerül tárolásra.\"\n",
    "print(example.lower())"
   ]
  },
  {
   "cell_type": "markdown",
   "id": "5e657349",
   "metadata": {},
   "source": [
    "## .title() – Cím-jellegű formázás\n",
    "Minden szó első betűjét nagybetűssé alakítja."
   ]
  },
  {
   "cell_type": "code",
   "execution_count": 5,
   "id": "896ea07a",
   "metadata": {},
   "outputs": [
    {
     "name": "stdout",
     "output_type": "stream",
     "text": [
      "A Mitokondrium A Sejt Erőműve. \n",
      "Az Általa Termelt Energia Egy Adenazin-Trifoszfát Nevű Apró Molekulában Kerül Tárolásra.\n"
     ]
    }
   ],
   "source": [
    "example = \"A mitokondrium a sejt erőműve. \\nAz általa termelt energia egy adenazin-trifoszfát nevű apró molekulában kerül tárolásra.\"\n",
    "print(example.title())"
   ]
  },
  {
   "cell_type": "markdown",
   "id": "a39a59d0",
   "metadata": {},
   "source": [
    "## .capitalize() – Nagybetűs kezdés\n",
    "A teljes szöveg első betűjét nagybetűssé alakítja. Tehát ha több kisbetűvel kezdődő mondat van egy str objektumban, akkor is csak az első betűt alakítja át. Az alábbi példában a demonstráció kedvéért kisbetűsek a mondatok."
   ]
  },
  {
   "cell_type": "code",
   "execution_count": 6,
   "id": "c6857f98",
   "metadata": {},
   "outputs": [
    {
     "name": "stdout",
     "output_type": "stream",
     "text": [
      "A mitokondrium a sejt erőműve. az általa termelt energia egy adenazin-trifoszfát nevű apró molekulában kerül tárolásra.\n"
     ]
    }
   ],
   "source": [
    "example = \"a mitokondrium a sejt erőműve. az általa termelt energia egy adenazin-trifoszfát nevű apró molekulában kerül tárolásra.\"\n",
    "print(example.capitalize())"
   ]
  },
  {
   "cell_type": "markdown",
   "id": "cb305d38",
   "metadata": {},
   "source": [
    "## .split(*milyen szövegrész mentén*) – Szöveg elválasztása\n",
    "A szöveget egy megadott szövegrész mentén elválasztja kisebb str elemekre, majd ezeket egy listába helyezi. Maga az elválasztáshoz megadott szövegrész nem kerül bele a listába, csak ami előtte és utána van, egészen a következő azonos szövegrészig, vagy a szöveg végéig."
   ]
  },
  {
   "cell_type": "code",
   "execution_count": 7,
   "id": "793ad3ed",
   "metadata": {},
   "outputs": [
    {
     "name": "stdout",
     "output_type": "stream",
     "text": [
      "['A', 'mitokondrium', 'a', 'sejt', 'erőműve.', '\\nAz', 'általa', 'termelt', 'energia', 'egy', 'adenazin-trifoszfát', 'nevű', 'apró', 'molekulában', 'kerül', 'tárolásra.']\n",
      "\n",
      "A változónk típusa: <class 'list'>\n"
     ]
    }
   ],
   "source": [
    "example = \"A mitokondrium a sejt erőműve. \\nAz általa termelt energia egy adenazin-trifoszfát nevű apró molekulában kerül tárolásra.\"\n",
    "example = example.split(' ') # szóköz mentén választjuk el\n",
    "print(example)\n",
    "\n",
    "print()\n",
    "\n",
    "print(\"A változónk típusa:\", type(example))"
   ]
  },
  {
   "cell_type": "markdown",
   "id": "e38c4252",
   "metadata": {},
   "source": [
    "Egy másik lehetőség a .split() függvénnyel az, hogy minden egyes új elemet egy külön változóban tárolunk. Ennek a szintaxisa így néz ki:"
   ]
  },
  {
   "cell_type": "code",
   "execution_count": 8,
   "id": "a5fd15b3",
   "metadata": {},
   "outputs": [
    {
     "name": "stdout",
     "output_type": "stream",
     "text": [
      "A\n",
      "sejt\n",
      "erőműve.\n",
      "a\n",
      "mitokondrium\n"
     ]
    }
   ],
   "source": [
    "example = \"A mitokondrium a sejt erőműve.\"\n",
    "first, second, third, fourth, fifth = example.split(' ')\n",
    "print(first)\n",
    "print(fourth)\n",
    "print(fifth)\n",
    "print(third)\n",
    "print(second)"
   ]
  },
  {
   "cell_type": "markdown",
   "id": "1cb7228d",
   "metadata": {},
   "source": [
    "Itt is beáll az a hiba, hogy amennyiben túl sok, vagy túl kevés változót adunk meg, hibát kapunk."
   ]
  },
  {
   "cell_type": "code",
   "execution_count": 9,
   "id": "f190cbf9",
   "metadata": {
    "scrolled": true,
    "tags": [
     "raises-exception"
    ]
   },
   "outputs": [
    {
     "ename": "ValueError",
     "evalue": "too many values to unpack (expected 4)",
     "output_type": "error",
     "traceback": [
      "\u001b[1;31m---------------------------------------------------------------------------\u001b[0m",
      "\u001b[1;31mValueError\u001b[0m                                Traceback (most recent call last)",
      "Input \u001b[1;32mIn [9]\u001b[0m, in \u001b[0;36m<cell line: 2>\u001b[1;34m()\u001b[0m\n\u001b[0;32m      1\u001b[0m example \u001b[38;5;241m=\u001b[39m \u001b[38;5;124m\"\u001b[39m\u001b[38;5;124mA mitokondrium a sejt erőműve.\u001b[39m\u001b[38;5;124m\"\u001b[39m\n\u001b[1;32m----> 2\u001b[0m first, second, third, fourth \u001b[38;5;241m=\u001b[39m example\u001b[38;5;241m.\u001b[39msplit(\u001b[38;5;124m'\u001b[39m\u001b[38;5;124m \u001b[39m\u001b[38;5;124m'\u001b[39m)\n",
      "\u001b[1;31mValueError\u001b[0m: too many values to unpack (expected 4)"
     ]
    }
   ],
   "source": [
    "example = \"A mitokondrium a sejt erőműve.\"\n",
    "first, second, third, fourth = example.split(' ')"
   ]
  },
  {
   "cell_type": "code",
   "execution_count": 10,
   "id": "3276089c",
   "metadata": {
    "tags": [
     "raises-exception"
    ]
   },
   "outputs": [
    {
     "ename": "ValueError",
     "evalue": "not enough values to unpack (expected 6, got 5)",
     "output_type": "error",
     "traceback": [
      "\u001b[1;31m---------------------------------------------------------------------------\u001b[0m",
      "\u001b[1;31mValueError\u001b[0m                                Traceback (most recent call last)",
      "Input \u001b[1;32mIn [10]\u001b[0m, in \u001b[0;36m<cell line: 2>\u001b[1;34m()\u001b[0m\n\u001b[0;32m      1\u001b[0m example \u001b[38;5;241m=\u001b[39m \u001b[38;5;124m\"\u001b[39m\u001b[38;5;124mA mitokondrium a sejt erőműve.\u001b[39m\u001b[38;5;124m\"\u001b[39m\n\u001b[1;32m----> 2\u001b[0m first, second, third, fourth, fifth, sixth \u001b[38;5;241m=\u001b[39m example\u001b[38;5;241m.\u001b[39msplit(\u001b[38;5;124m'\u001b[39m\u001b[38;5;124m \u001b[39m\u001b[38;5;124m'\u001b[39m)\n",
      "\u001b[1;31mValueError\u001b[0m: not enough values to unpack (expected 6, got 5)"
     ]
    }
   ],
   "source": [
    "example = \"A mitokondrium a sejt erőműve.\"\n",
    "first, second, third, fourth, fifth, sixth = example.split(' ')"
   ]
  },
  {
   "cell_type": "markdown",
   "id": "1bf8e797",
   "metadata": {},
   "source": [
    "## Szöveg vizsgálata\n",
    "### len(*szöveg*) – Szöveg hosszának lekérése\n",
    "A len() függvénnyel lekérhető egy adott str objektum hossza. Megjegyzendő, hogy ebbe a hosszba a szóközök, tabulátorok, sortörések és egyéb írásjelek is beletartoznak. (A sortörés és tabulátor ugyan \\n, és \\t-ként van leírva, de valójában egy karakternek számítanak!)"
   ]
  },
  {
   "cell_type": "code",
   "execution_count": 11,
   "id": "15a4b74b",
   "metadata": {},
   "outputs": [
    {
     "name": "stdout",
     "output_type": "stream",
     "text": [
      "Első szöveg: 123456789, hossza: 9\n",
      "\n",
      "Második szöveg: A mitokondrium a sejt erőműve., hossza: 30\n",
      "\n",
      "Első szöveg: H\n",
      "E\n",
      "\tL\n",
      "\tL\n",
      "O, hossza: 11\n"
     ]
    }
   ],
   "source": [
    "example = \"123456789\"\n",
    "example_length = len(example)\n",
    "print(f\"Első szöveg: {example}, hossza:\", example_length)\n",
    "\n",
    "print()\n",
    "\n",
    "example = \"A mitokondrium a sejt erőműve.\"\n",
    "example_length = len(example)\n",
    "print(f\"Második szöveg: {example}, hossza:\", example_length)\n",
    "\n",
    "print()\n",
    "\n",
    "example = \"H\\nE\\n\\tL\\n\\tL\\nO\"\n",
    "example_length = len(example)\n",
    "print(f\"Első szöveg: {example}, hossza:\", example_length)"
   ]
  },
  {
   "cell_type": "markdown",
   "id": "626289df",
   "metadata": {},
   "source": [
    "### .find(*keresett szövegrész*) &ndash; Szövegrész keresése\n",
    "Megkeresi, hanyadik helyen bukkan fel először (és csak először!) az adott szövegrész. Fontos, hogy itt írásjelek listájaként van kezelve a szöveg, így 0-tól kezdődik az indexelés!"
   ]
  },
  {
   "cell_type": "code",
   "execution_count": 12,
   "id": "f23ddfe9",
   "metadata": {},
   "outputs": [
    {
     "name": "stdout",
     "output_type": "stream",
     "text": [
      "3 írásjel indexe a szövegben: 2\n",
      "A sejt szó indexe a szövegben: 17\n"
     ]
    }
   ],
   "source": [
    "example = \"123456789\"\n",
    "index_of_3 = example.find('3')\n",
    "print(\"3 írásjel indexe a szövegben:\", index_of_3)\n",
    "\n",
    "example = \"A mitokondrium a sejt erőműve.\"\n",
    "index_of_cell = example.find('sejt')\n",
    "print(\"A sejt szó indexe a szövegben:\", index_of_cell)"
   ]
  },
  {
   "cell_type": "markdown",
   "id": "02d537c8",
   "metadata": {},
   "source": [
    "Ha a keresett szövegrész nem szerepel a szövegben, -1-et ad vissza."
   ]
  },
  {
   "cell_type": "code",
   "execution_count": 13,
   "id": "b093faab",
   "metadata": {},
   "outputs": [
    {
     "name": "stdout",
     "output_type": "stream",
     "text": [
      "x írásjel indexe a szövegben: -1\n"
     ]
    }
   ],
   "source": [
    "example = \"123456789\"\n",
    "index_of_x = example.find('x')\n",
    "print(\"x írásjel indexe a szövegben:\", index_of_x)"
   ]
  },
  {
   "cell_type": "markdown",
   "id": "d4d19f10",
   "metadata": {},
   "source": [
    "### .startswith(*szövegrész*) &ndash; Szöveg elejének ellenőrzése\n",
    "Megnézi, hogy a szöveg azzal a szövegrésszel kezdődik-e, amit megadsz. Logikai állítás, tehát vagy igaz, vagy hamis bool értéket fog felvenni. "
   ]
  },
  {
   "cell_type": "code",
   "execution_count": 14,
   "id": "0b21d2fd",
   "metadata": {},
   "outputs": [
    {
     "name": "stdout",
     "output_type": "stream",
     "text": [
      "Nagy A-val kezdődik a mondat? True\n",
      "Azzal kezdődik a mondat, hogy \"A mitok\"? True\n"
     ]
    }
   ],
   "source": [
    "example = \"A mitokondrium a sejt erőműve.\"\n",
    "starts_with_A = example.startswith('A')\n",
    "print(\"Nagy A-val kezdődik a mondat?\", starts_with_A)\n",
    "\n",
    "example = \"A mitokondrium a sejt erőműve.\"\n",
    "starts_with_string = example.startswith('A mitok')\n",
    "print(\"Azzal kezdődik a mondat, hogy \\\"A mitok\\\"?\", starts_with_string)"
   ]
  },
  {
   "cell_type": "markdown",
   "id": "89b2b65f",
   "metadata": {},
   "source": [
    "Megjegyzendő, hogy ez a függvény érzékeny kis- és nagybetűkre."
   ]
  },
  {
   "cell_type": "code",
   "execution_count": 15,
   "id": "10d3f84d",
   "metadata": {
    "scrolled": true
   },
   "outputs": [
    {
     "name": "stdout",
     "output_type": "stream",
     "text": [
      "Kis a-val kezdődik a mondat? False\n"
     ]
    }
   ],
   "source": [
    "example = \"A mitokondrium a sejt erőműve.\"\n",
    "starts_with_a = example.startswith('a') \n",
    "print(\"Kis a-val kezdődik a mondat?\", starts_with_a)"
   ]
  },
  {
   "cell_type": "markdown",
   "id": "b3cc13b6",
   "metadata": {},
   "source": [
    "### .endswith(*szövegrész*) &ndash; Szöveg végének ellenőrzése\n",
    "Megnézi, hogy a megadott szövegrésszel végződik-e az adott mondat. Ez is érzékeny kis- és nagybetűkre."
   ]
  },
  {
   "cell_type": "code",
   "execution_count": 16,
   "id": "c8f42d44",
   "metadata": {},
   "outputs": [
    {
     "name": "stdout",
     "output_type": "stream",
     "text": [
      "Ponttal végződik a mondat? True\n",
      "Azzal végződik a mondat, hogy \"erőműve.\"? True\n"
     ]
    }
   ],
   "source": [
    "example = \"A mitokondrium a sejt erőműve.\"\n",
    "ends_with_dot = example.endswith('.')\n",
    "print(\"Ponttal végződik a mondat?\", ends_with_dot)\n",
    "\n",
    "example = \"A mitokondrium a sejt erőműve.\"\n",
    "ends_with_string = example.endswith('erőműve.')\n",
    "print(\"Azzal végződik a mondat, hogy \\\"erőműve.\\\"?\", ends_with_string)"
   ]
  },
  {
   "cell_type": "markdown",
   "id": "587c2e7a",
   "metadata": {},
   "source": [
    "### .isdecimal() &ndash; Egész arab szám-e a szöveg?\n",
    "Ellenőrzi, hogy minden írásjel a szövegben 0 és 9 közötti szám-e, azaz egész számot ad-e ki a szöveg."
   ]
  },
  {
   "cell_type": "code",
   "execution_count": 17,
   "id": "80687a5a",
   "metadata": {},
   "outputs": [
    {
     "name": "stdout",
     "output_type": "stream",
     "text": [
      "A számos példaszöveg egész számot ad ki: True\n",
      "A kínai írásjeles példaszöveg egész számot ad ki: False\n",
      "Az egyszavas példaszöveg egész számot ad ki: False\n",
      "A mondatos példaszöveg egész számot ad ki: False\n"
     ]
    }
   ],
   "source": [
    "example = \"123456789\" \n",
    "example_is_decimal = example.isdecimal()\n",
    "print(\"A számos példaszöveg egész számot ad ki:\", example_is_decimal)\n",
    "\n",
    "example = \"一億二千三百四十五万六千七百八十九\" # Százhuszonhárommillió-négyszázötvenhatezer-hétszáznyolcvankilenc\n",
    "example_is_decimal = example.isdecimal()\n",
    "print(\"A kínai írásjeles példaszöveg egész számot ad ki:\", example_is_decimal)\n",
    "\n",
    "example = \"MacGyver\"\n",
    "example_is_decimal = example.isdecimal()\n",
    "print(\"Az egyszavas példaszöveg egész számot ad ki:\", example_is_decimal)\n",
    "\n",
    "example = \"A mitokondrium a sejt erőműve.\"\n",
    "example_is_decimal = example.isdecimal()\n",
    "print(\"A mondatos példaszöveg egész számot ad ki:\", example_is_decimal)"
   ]
  },
  {
   "cell_type": "markdown",
   "id": "0d1acd8f",
   "metadata": {},
   "source": [
    "### .isnumeric() &ndash; Hordoz-e számértéket a szöveg összes írásjele?\n",
    "Ellenőrzi, hogy minden írásjel numerikus-e. Ez jelentheti a 0 és 9 közötti arab számokat, illetve egyéb szám-jellegű Unicode karaktereket. Más írásrendszerek számait, egykarakteres törteket, római számoknak fenntartott írásjeleket, stb. Pl. ½, ५, ௮, ൬, 𝟡, Ⅹ, 億 Eredmény: True"
   ]
  },
  {
   "cell_type": "code",
   "execution_count": 18,
   "id": "5130f492",
   "metadata": {},
   "outputs": [
    {
     "name": "stdout",
     "output_type": "stream",
     "text": [
      "A számos példaszöveg számszerű: True\n",
      "A kínai írásjeles példaszöveg számszerű: True\n",
      "Az egyszavas példaszöveg számszerű: False\n",
      "A mondatos példaszöveg számszerű: False\n"
     ]
    }
   ],
   "source": [
    "example = \"123456789\"\n",
    "example_is_numeric = example.isnumeric()\n",
    "print(\"A számos példaszöveg számszerű:\", example_is_numeric)\n",
    "\n",
    "example = \"一億二千三百四十五万六千七百八十九\" # Százhuszonhárommillió-négyszázötvenhatezer-hétszáznyolcvankilenc\n",
    "example_is_numeric = example.isnumeric()\n",
    "print(\"A kínai írásjeles példaszöveg számszerű:\", example_is_numeric)\n",
    "\n",
    "example = \"MacGyver\"\n",
    "example_is_numeric = example.isnumeric()\n",
    "print(\"Az egyszavas példaszöveg számszerű:\", example_is_numeric)\n",
    "\n",
    "example = \"A mitokondrium a sejt erőműve.\"\n",
    "example_is_numeric = example.isnumeric()\n",
    "print(\"A mondatos példaszöveg számszerű:\", example_is_numeric)"
   ]
  },
  {
   "cell_type": "markdown",
   "id": "c8640a60",
   "metadata": {},
   "source": [
    "### .isalpha() &ndash; Egy szó-e az adott szöveg?\n",
    "Ellenőrzi, hogy minden írásjel betű-e a szövegben. A szóköz nem számít betűnek, ezért csak szavak ellenőrzésére alkalmas. Nem érzékeny kis- és nagybetűre. Idegen nyelvű írásjelek nem zavarják."
   ]
  },
  {
   "cell_type": "code",
   "execution_count": 19,
   "id": "28a02271",
   "metadata": {},
   "outputs": [
    {
     "name": "stdout",
     "output_type": "stream",
     "text": [
      "A számos példaszöveg számszerű: False\n",
      "A kínai írásjeles példaszöveg számszerű: True\n",
      "Az egyszavas példaszöveg számszerű: True\n",
      "A mondatos példaszöveg számszerű: False\n"
     ]
    }
   ],
   "source": [
    "example = \"123456789\"\n",
    "example_is_alpha = example.isalpha()\n",
    "print(\"A számos példaszöveg számszerű:\", example_is_alpha)\n",
    "\n",
    "example = \"一億二千三百四十五万六千七百八十九\" # Százhuszonhárommillió-négyszázötvenhatezer-hétszáznyolcvankilenc\n",
    "example_is_alpha = example.isalpha()\n",
    "print(\"A kínai írásjeles példaszöveg számszerű:\", example_is_alpha)\n",
    "\n",
    "example = \"MacGyver\"\n",
    "example_is_alpha = example.isalpha()\n",
    "print(\"Az egyszavas példaszöveg számszerű:\", example_is_alpha)\n",
    "\n",
    "example = \"A mitokondrium a sejt erőműve.\"\n",
    "example_is_alpha = example.isalpha()\n",
    "print(\"A mondatos példaszöveg számszerű:\", example_is_alpha)"
   ]
  },
  {
   "cell_type": "markdown",
   "id": "c103c005",
   "metadata": {},
   "source": [
    "### .isupper() &ndash; Nagybetűs-e az egész szöveg?\n",
    "Csak akkor ad vissza True-t, ha minden egyes betű a szövegben nagy. Olyan írásjelek, amiknek nincs kis-és nagybetűs alakjuk (számok, bizonyos külföldi írásrendszerek) nem befolyásolják az eredményt, tehát ha nélkülük True lenne, akkor True lesz az eredmény, egyébként False."
   ]
  },
  {
   "cell_type": "code",
   "execution_count": 20,
   "id": "edd4735c",
   "metadata": {
    "scrolled": true
   },
   "outputs": [
    {
     "name": "stdout",
     "output_type": "stream",
     "text": [
      "A nagybetűs szöveg nagybetűs: True\n",
      "A kevert szöveg nagybetűs: False\n",
      "A kisbetűs szöveg nagybetűs: False\n",
      "Az üres szöveg nagybetűs: False\n",
      "A számos szöveg nagybetűs: False\n",
      "A számos-nagybetűs szöveg nagybetűs: True\n"
     ]
    }
   ],
   "source": [
    "example = \"MITOKONDRIUM\"\n",
    "example_is_upper = example.isupper()\n",
    "print(\"A nagybetűs szöveg nagybetűs:\", example_is_upper)\n",
    "\n",
    "example = \"MitoKondrium\"\n",
    "example_is_upper = example.isupper()\n",
    "print(\"A kevert szöveg nagybetűs:\", example_is_upper)\n",
    "\n",
    "example = \"mitokondrium\"\n",
    "example_is_upper = example.isupper()\n",
    "print(\"A kisbetűs szöveg nagybetűs:\", example_is_upper)\n",
    "\n",
    "example = \"\"\n",
    "example_is_upper = example.isupper()\n",
    "print(\"Az üres szöveg nagybetűs:\", example_is_upper)\n",
    "\n",
    "example = \"123456789\"\n",
    "example_is_upper = example.isupper()\n",
    "print(\"A számos szöveg nagybetűs:\", example_is_upper)\n",
    "\n",
    "example = \"T0RT1LL4\"\n",
    "example_is_upper = example.isupper()\n",
    "print(\"A számos-nagybetűs szöveg nagybetűs:\", example_is_upper)"
   ]
  },
  {
   "cell_type": "markdown",
   "id": "31c9fffe",
   "metadata": {},
   "source": [
    "### .islower() &ndash; Kisbetűs-e az egész szöveg?\n",
    "Csak akkor ad vissza True-t, ha minden egyes betű a szövegben kicsi. Olyan írásjelek, amiknek nincs kis-és nagybetűs alakjuk (számok, bizonyos külföldi írásrendszerek) nem befolyásolják az eredményt, tehát ha nélkülük True lenne, akkor True lesz az eredmény, egyébként False."
   ]
  },
  {
   "cell_type": "code",
   "execution_count": 21,
   "id": "ac341fb2",
   "metadata": {},
   "outputs": [
    {
     "name": "stdout",
     "output_type": "stream",
     "text": [
      "A nagy szöveg kisbetűs: False\n",
      "A kevert szöveg kisbetűs: False\n",
      "A kisbetűs szöveg kisbetűs: True\n",
      "Az üres szöveg kisbetűs: False\n",
      "A számos szöveg kisbetűs: False\n",
      "A számos-kisbetűs szöveg kisbetűs: True\n"
     ]
    }
   ],
   "source": [
    "example = \"MITOKONDRIUM\"\n",
    "example_is_lower = example.islower()\n",
    "print(\"A nagy szöveg kisbetűs:\", example_is_lower)\n",
    "\n",
    "example = \"MitoKondrium\"\n",
    "example_is_lower = example.islower()\n",
    "print(\"A kevert szöveg kisbetűs:\", example_is_lower)\n",
    "\n",
    "example = \"mitokondrium\"\n",
    "example_is_lower = example.islower()\n",
    "print(\"A kisbetűs szöveg kisbetűs:\", example_is_lower)\n",
    "\n",
    "example = \"\"\n",
    "example_is_lower = example.islower()\n",
    "print(\"Az üres szöveg kisbetűs:\", example_is_lower)\n",
    "\n",
    "example = \"123456789\"\n",
    "example_is_lower = example.islower()\n",
    "print(\"A számos szöveg kisbetűs:\", example_is_lower)\n",
    "\n",
    "example = \"t0rt1ll4\"\n",
    "example_is_lower = example.islower()\n",
    "print(\"A számos-kisbetűs szöveg kisbetűs:\", example_is_lower)"
   ]
  }
 ],
 "metadata": {
  "kernelspec": {
   "display_name": "Python 3 (ipykernel)",
   "language": "python",
   "name": "python3"
  },
  "language_info": {
   "codemirror_mode": {
    "name": "ipython",
    "version": 3
   },
   "file_extension": ".py",
   "mimetype": "text/x-python",
   "name": "python",
   "nbconvert_exporter": "python",
   "pygments_lexer": "ipython3",
   "version": "3.10.6"
  }
 },
 "nbformat": 4,
 "nbformat_minor": 5
}
