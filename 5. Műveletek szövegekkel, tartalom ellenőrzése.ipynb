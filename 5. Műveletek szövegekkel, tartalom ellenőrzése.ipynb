{
 "cells": [
  {
   "cell_type": "markdown",
   "id": "1f4e75b0",
   "metadata": {},
   "source": [
    "# Szövegek\n",
    "Szövegek tartalmának kódalapú módosítása, lekérdezések."
   ]
  },
  {
   "cell_type": "markdown",
   "id": "232c9e8d",
   "metadata": {},
   "source": [
    "## Szövegmódosító műveletek\n"
   ]
  },
  {
   "cell_type": "code",
   "execution_count": null,
   "id": "8d510f25",
   "metadata": {},
   "outputs": [],
   "source": []
  }
 ],
 "metadata": {
  "kernelspec": {
   "display_name": "Python 3 (ipykernel)",
   "language": "python",
   "name": "python3"
  },
  "language_info": {
   "codemirror_mode": {
    "name": "ipython",
    "version": 3
   },
   "file_extension": ".py",
   "mimetype": "text/x-python",
   "name": "python",
   "nbconvert_exporter": "python",
   "pygments_lexer": "ipython3",
   "version": "3.10.6"
  }
 },
 "nbformat": 4,
 "nbformat_minor": 5
}
