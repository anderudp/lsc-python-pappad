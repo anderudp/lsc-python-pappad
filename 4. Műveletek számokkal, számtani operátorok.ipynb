{
 "cells": [
  {
   "cell_type": "markdown",
   "id": "5dac020f",
   "metadata": {},
   "source": [
    "# Számok\n",
    "Műveletek, számtani- és értékadó operátorok, bináris számok kezelése.\n",
    "\n",
    "## Számtani műveletek és operátorok\n",
    "A számítástechnikában használunk néhány olyan műveletet, amely nem feltétlenül alapvető, illetve néhány műveletnek vannak olyan sajátosságai, amelyekre különösképp oda kell figyelnünk. Az alábbi példákban csak int változók kerültek bemutatásra, de ugyanezek a műveletek float-okkal is működnének, annyi különbséggel, hogy minden eredmény úgyszintén float lenne.\n",
    "\n",
    "### Összeadás (+)"
   ]
  },
  {
   "cell_type": "code",
   "execution_count": 1,
   "id": "f1c447a2",
   "metadata": {},
   "outputs": [
    {
     "name": "stdout",
     "output_type": "stream",
     "text": [
      "x és y összege: 5\n"
     ]
    }
   ],
   "source": [
    "x = 2\n",
    "y = 3\n",
    "\n",
    "total = x + y\n",
    "print(\"x és y összege: \" + str(total))"
   ]
  },
  {
   "cell_type": "markdown",
   "id": "19de6d6d",
   "metadata": {},
   "source": [
    "Megjegyzendő, hogy angolul az \"összeg\" a 'sum' szó lenne valójában, de az egy lefoglalt kifejezés a Pythonban egy beépített függvénynek, így változónévként használata problémákat okozna.\n",
    "\n",
    "### Kivonás (-)"
   ]
  },
  {
   "cell_type": "code",
   "execution_count": 2,
   "id": "4d7ad0a6",
   "metadata": {},
   "outputs": [
    {
     "name": "stdout",
     "output_type": "stream",
     "text": [
      "x és y különbsége: -1\n"
     ]
    }
   ],
   "source": [
    "x = 2\n",
    "y = 3\n",
    "\n",
    "difference = x - y\n",
    "print(\"x és y különbsége: \" + str(difference))"
   ]
  },
  {
   "cell_type": "markdown",
   "id": "11316576",
   "metadata": {},
   "source": [
    "### Szorzás (\\*)"
   ]
  },
  {
   "cell_type": "code",
   "execution_count": 3,
   "id": "c5fd0380",
   "metadata": {},
   "outputs": [
    {
     "name": "stdout",
     "output_type": "stream",
     "text": [
      "x és y szorzata: 6\n"
     ]
    }
   ],
   "source": [
    "x = 2\n",
    "y = 3\n",
    "\n",
    "product = x * y\n",
    "print(\"x és y szorzata: \" + str(product))"
   ]
  },
  {
   "cell_type": "markdown",
   "id": "3643e391",
   "metadata": {},
   "source": [
    "### Osztás (/)\n",
    "\n",
    "Az eddigi műveletek int típusokon elvégezve mindig int eredményt adtak. Az osztás azonban nem feltétlenül eredményez két egész számon elvégezve egy másik egész számot."
   ]
  },
  {
   "cell_type": "code",
   "execution_count": 4,
   "id": "a9c49855",
   "metadata": {},
   "outputs": [
    {
     "name": "stdout",
     "output_type": "stream",
     "text": [
      "x és y hányadosa: 0.6666666666666666\n"
     ]
    }
   ],
   "source": [
    "x = 2\n",
    "y = 3\n",
    "\n",
    "quotient = x / y\n",
    "print(\"x és y hányadosa: \" + str(quotient))"
   ]
  },
  {
   "cell_type": "markdown",
   "id": "0cb64d4d",
   "metadata": {},
   "source": [
    "Ennek köszönhetően az osztás eredménye mindig float, még akkor is, hogyha oz osztandó osztható az osztóval."
   ]
  },
  {
   "cell_type": "code",
   "execution_count": 5,
   "id": "6ce54741",
   "metadata": {},
   "outputs": [
    {
     "name": "stdout",
     "output_type": "stream",
     "text": [
      "x és y hányadosa: 2.0\n"
     ]
    }
   ],
   "source": [
    "x = 6\n",
    "y = 3\n",
    "\n",
    "quotient = x / y\n",
    "print(\"x és y hányadosa: \" + str(quotient))"
   ]
  },
  {
   "cell_type": "markdown",
   "id": "034ef8dd",
   "metadata": {},
   "source": [
    "### Osztás alsó egészrésze (//)\n",
    "\n",
    "Az a legnagyobb egész szám, ahányszor az osztó megvan az osztandóban. Más szóval az osztás eredményének egészrésze. Ezt akkor használjuk, hogyha mindenképpen egész eredményre van szükségünk, és a pontosság nem olyan fontos."
   ]
  },
  {
   "cell_type": "code",
   "execution_count": 6,
   "id": "61c74809",
   "metadata": {},
   "outputs": [
    {
     "name": "stdout",
     "output_type": "stream",
     "text": [
      "y ennyiszer van meg teljesen x-ben: 2\n",
      "y ennyiszer van meg teljesen x-ben: 2.0\n",
      "y ennyiszer van meg teljesen x-ben: 0\n"
     ]
    }
   ],
   "source": [
    "x = 6\n",
    "y = 3\n",
    "\n",
    "floored_quotient = x // y\n",
    "print(\"y ennyiszer van meg teljesen x-ben: \" + str(floored_quotient))\n",
    "\n",
    "x = 6.3\n",
    "y = 3\n",
    "\n",
    "floored_quotient = x // y\n",
    "print(\"y ennyiszer van meg teljesen x-ben: \" + str(floored_quotient))\n",
    "\n",
    "x = 2\n",
    "y = 3\n",
    "\n",
    "floored_quotient = x // y\n",
    "print(\"y ennyiszer van meg teljesen x-ben: \" + str(floored_quotient))"
   ]
  },
  {
   "cell_type": "markdown",
   "id": "749a9cf9",
   "metadata": {},
   "source": [
    "### Osztás maradéka, modulo (%)\n",
    "\n",
    "Két szám modulója az osztásuk maradékával egyenlő. Tehát, amennyiben két szám modulója 0, ez azt jelenti, hogy az osztásuk maradéka 0, tehát az első szám osztható a másodikkal. Ezt az operátort legtöbbször ilyen módon, oszthatóság ellenőrzésére használjuk."
   ]
  },
  {
   "cell_type": "code",
   "execution_count": 7,
   "id": "b15f0856",
   "metadata": {
    "scrolled": true
   },
   "outputs": [
    {
     "name": "stdout",
     "output_type": "stream",
     "text": [
      "x y-nal leosztásának maradéka: 2\n",
      "x y-nal leosztásának maradéka: 0.020000000000000018\n",
      "x y-nal leosztásának maradéka: 7\n"
     ]
    }
   ],
   "source": [
    "x = 2\n",
    "y = 3\n",
    "\n",
    "remainder = x % y\n",
    "print(\"x y-nal leosztásának maradéka: \" + str(remainder))\n",
    "\n",
    "x = 2.12\n",
    "y = 1.05\n",
    "\n",
    "remainder = x % y\n",
    "print(\"x y-nal leosztásának maradéka: \" + str(remainder))\n",
    "\n",
    "x = 137\n",
    "y = 13\n",
    "\n",
    "remainder = x % y\n",
    "print(\"x y-nal leosztásának maradéka: \" + str(remainder))"
   ]
  },
  {
   "cell_type": "markdown",
   "id": "8d3f691c",
   "metadata": {},
   "source": [
    "A második példában a 18 trilliomod pontatlanság a float-ok korábban említett pontatlanságából ered.\n",
    "\n",
    "### Hatványozás (\\*\\*)\n",
    "A bal oldali szám a hatványalap, a jobb oldali pedig a hatványkitevő."
   ]
  },
  {
   "cell_type": "code",
   "execution_count": 8,
   "id": "ffc93c4d",
   "metadata": {},
   "outputs": [
    {
     "name": "stdout",
     "output_type": "stream",
     "text": [
      "x az y-odikon: 8\n",
      "x az y-odikon: 9\n",
      "x az y-odikon: 1267650600228229401496703205376\n"
     ]
    }
   ],
   "source": [
    "x = 2\n",
    "y = 3\n",
    "\n",
    "x_pow_y = x ** y\n",
    "print(\"x az y-odikon: \" + str(x_pow_y))\n",
    "\n",
    "x = 3\n",
    "y = 2\n",
    "\n",
    "x_pow_y = x ** y\n",
    "print(\"x az y-odikon: \" + str(x_pow_y))\n",
    "\n",
    "x = 2\n",
    "y = 100\n",
    "\n",
    "x_pow_y = x ** y\n",
    "print(\"x az y-odikon: \" + str(x_pow_y))"
   ]
  },
  {
   "cell_type": "markdown",
   "id": "9ace2dfc",
   "metadata": {},
   "source": [
    "## Értékadó operátorok\n",
    "Tegyük fel, hogy van egy változónk, amelynek szeretnénk egyel megnövelni az értékét. Ez hagyományosan így nézett ki."
   ]
  },
  {
   "cell_type": "code",
   "execution_count": 9,
   "id": "f96162d4",
   "metadata": {},
   "outputs": [
    {
     "name": "stdout",
     "output_type": "stream",
     "text": [
      "x kezdőértéke 10\n",
      "x meg lett növelve eggyel, új értéke: 11\n"
     ]
    }
   ],
   "source": [
    "x = 10\n",
    "\n",
    "print(\"x kezdőértéke\", x)\n",
    "x = x + 1\n",
    "print(\"x meg lett növelve eggyel, új értéke:\", x)"
   ]
  },
  {
   "cell_type": "markdown",
   "id": "fb323f7e",
   "metadata": {},
   "source": [
    "Nagyon gyakran fordul elő, hogy egy változót egy konkrét értékkel akarjuk módosítani. Megnövelni, csökkenteni, megszorozni, leosztani egyel, kettővel, százzal, ezerrel, stb. Erre a célra találták ki az értékadó operátorokat. Az értékadó operátorok a fentebb látható műveleteket hajtják végre, amelynek az eredménye a bal oldali változóba fog kerülni.\n",
    "### Változóhoz hozzáadás (+=)"
   ]
  },
  {
   "cell_type": "code",
   "execution_count": 10,
   "id": "58e8871f",
   "metadata": {},
   "outputs": [
    {
     "name": "stdout",
     "output_type": "stream",
     "text": [
      "x kezdőértéke 10\n",
      "x meg lett növelve eggyel, új értéke: 11\n",
      "x meg lett növelve öttel, új értéke: 16\n"
     ]
    }
   ],
   "source": [
    "x = 10\n",
    "\n",
    "print(\"x kezdőértéke\", x)\n",
    "x += 1\n",
    "print(\"x meg lett növelve eggyel, új értéke:\", x)\n",
    "x += 5\n",
    "print(\"x meg lett növelve öttel, új értéke:\", x)"
   ]
  },
  {
   "cell_type": "markdown",
   "id": "e9bda8cd",
   "metadata": {},
   "source": [
    "### Változóból kivonás (-=)"
   ]
  },
  {
   "cell_type": "code",
   "execution_count": 11,
   "id": "58397e97",
   "metadata": {},
   "outputs": [
    {
     "name": "stdout",
     "output_type": "stream",
     "text": [
      "x kezdőértéke 10\n",
      "x csökkentve lett eggyel, új értéke: 9\n",
      "x csökkentve lett öttel, új értéke: 4\n"
     ]
    }
   ],
   "source": [
    "x = 10\n",
    "\n",
    "print(\"x kezdőértéke\", x)\n",
    "x -= 1\n",
    "print(\"x csökkentve lett eggyel, új értéke:\", x)\n",
    "x -= 5\n",
    "print(\"x csökkentve lett öttel, új értéke:\", x)"
   ]
  },
  {
   "cell_type": "markdown",
   "id": "5fc369fc",
   "metadata": {},
   "source": [
    "### Változó felszorzása (\\*=)"
   ]
  },
  {
   "cell_type": "code",
   "execution_count": 12,
   "id": "f933d3ae",
   "metadata": {},
   "outputs": [
    {
     "name": "stdout",
     "output_type": "stream",
     "text": [
      "x kezdőértéke 10\n",
      "x fel lett szorozva kettővel, új értéke: 20\n",
      "x fel lett szorozva hárommal, új értéke: 60\n"
     ]
    }
   ],
   "source": [
    "x = 10\n",
    "\n",
    "print(\"x kezdőértéke\", x)\n",
    "x *= 2\n",
    "print(\"x fel lett szorozva kettővel, új értéke:\", x)\n",
    "x *= 3\n",
    "print(\"x fel lett szorozva hárommal, új értéke:\", x)"
   ]
  },
  {
   "cell_type": "markdown",
   "id": "be1596e5",
   "metadata": {},
   "source": [
    "### Változó leosztása (/=)"
   ]
  },
  {
   "cell_type": "code",
   "execution_count": 13,
   "id": "eef6bb39",
   "metadata": {},
   "outputs": [
    {
     "name": "stdout",
     "output_type": "stream",
     "text": [
      "x kezdőértéke 10\n",
      "x le lett osztva kettővel, új értéke: 5.0\n",
      "x le lett osztva hárommal, új értéke: 1.6666666666666667\n"
     ]
    }
   ],
   "source": [
    "x = 10\n",
    "\n",
    "print(\"x kezdőértéke\", x)\n",
    "x /= 2\n",
    "print(\"x le lett osztva kettővel, új értéke:\", x)\n",
    "x /= 3\n",
    "print(\"x le lett osztva hárommal, új értéke:\", x)"
   ]
  },
  {
   "cell_type": "markdown",
   "id": "c3969e14",
   "metadata": {},
   "source": [
    "Még ha egész is az eredmény, akkor is float-ként adja vissza!\n",
    "\n",
    "### Változó számmal leosztásának egészrésze (//=)"
   ]
  },
  {
   "cell_type": "code",
   "execution_count": 14,
   "id": "707417a2",
   "metadata": {
    "scrolled": true
   },
   "outputs": [
    {
     "name": "stdout",
     "output_type": "stream",
     "text": [
      "x kezdőértéke 10\n",
      "x le lett osztva kettővel, majd lekerekítve, új értéke: 5\n",
      "x le lett osztva hárommal, majd lekerekítve, új értéke: 1\n"
     ]
    }
   ],
   "source": [
    "x = 10\n",
    "\n",
    "print(\"x kezdőértéke\", x)\n",
    "x //= 2\n",
    "print(\"x le lett osztva kettővel, majd lekerekítve, új értéke:\", x)\n",
    "x //= 3\n",
    "print(\"x le lett osztva hárommal, majd lekerekítve, új értéke:\", x)"
   ]
  },
  {
   "cell_type": "markdown",
   "id": "4f9bd8ea",
   "metadata": {},
   "source": [
    "### Változó számmal osztásának maradéka (%=)"
   ]
  },
  {
   "cell_type": "code",
   "execution_count": 15,
   "id": "e185ff28",
   "metadata": {},
   "outputs": [
    {
     "name": "stdout",
     "output_type": "stream",
     "text": [
      "x kezdőértéke 10\n",
      "x új értéke a héttel való osztásának a maradéka, amely: 3\n",
      "x új értéke a hárommal való osztásának a maradéka, amely: 0\n"
     ]
    }
   ],
   "source": [
    "x = 10\n",
    "\n",
    "print(\"x kezdőértéke\", x)\n",
    "x %= 7\n",
    "print(\"x új értéke a héttel való osztásának a maradéka, amely:\", x)\n",
    "x %= 3\n",
    "print(\"x új értéke a hárommal való osztásának a maradéka, amely:\", x)"
   ]
  },
  {
   "cell_type": "markdown",
   "id": "9d34d77e",
   "metadata": {},
   "source": [
    "Hogyha egy változó egy adott számmal leosztva 0-t ad maradékul, azt jelenti, hogy a változó az adott szám többszöröse.\n",
    "### Változó hatványra emelése (\\*\\*=)"
   ]
  },
  {
   "cell_type": "code",
   "execution_count": 16,
   "id": "be92a519",
   "metadata": {},
   "outputs": [
    {
     "name": "stdout",
     "output_type": "stream",
     "text": [
      "x kezdőértéke 10\n",
      "x a harmadikra lett emelve, új értéke: 1000\n",
      "x a négyzetre lett emelve, új értéke: 1000000\n"
     ]
    }
   ],
   "source": [
    "x = 10\n",
    "\n",
    "print(\"x kezdőértéke\", x)\n",
    "x **= 3\n",
    "print(\"x a harmadikra lett emelve, új értéke:\", x)\n",
    "x **= 2\n",
    "print(\"x a négyzetre lett emelve, új értéke:\", x)"
   ]
  },
  {
   "cell_type": "markdown",
   "id": "96a5703c",
   "metadata": {},
   "source": [
    "## Bináris számok\n",
    "A bin() függvénnyel meg tudjuk kapni az argumentumként megadott int (azaz tizes számrendszerbeli egész szám) bináris (azaz kettes számrendszerbeli) alakját."
   ]
  },
  {
   "cell_type": "code",
   "execution_count": 17,
   "id": "d05adfaa",
   "metadata": {
    "scrolled": true
   },
   "outputs": [
    {
     "name": "stdout",
     "output_type": "stream",
     "text": [
      "0 bináris alakja: 0b0\n",
      "1 bináris alakja: 0b1\n",
      "2 bináris alakja: 0b10\n"
     ]
    }
   ],
   "source": [
    "print(\"0 bináris alakja:\", bin(0))\n",
    "print(\"1 bináris alakja:\", bin(1))\n",
    "print(\"2 bináris alakja:\", bin(2))"
   ]
  },
  {
   "cell_type": "markdown",
   "id": "d11dd612",
   "metadata": {},
   "source": [
    "A python a binárissá alakított számokat egy 0b előtaggal, szövegként adja vissza."
   ]
  },
  {
   "cell_type": "code",
   "execution_count": 18,
   "id": "7b004c31",
   "metadata": {
    "scrolled": false
   },
   "outputs": [
    {
     "name": "stdout",
     "output_type": "stream",
     "text": [
      "0b10\n",
      "<class 'str'>\n"
     ]
    }
   ],
   "source": [
    "my_bin = bin(2)\n",
    "print(my_bin)\n",
    "print(type(my_bin))"
   ]
  },
  {
   "cell_type": "markdown",
   "id": "4f26a502",
   "metadata": {},
   "source": [
    "Int-té nincs sok értelme átkonvertálni ugyan, de az előtagot eltávolíthatjuk egy későbbi fejezetben bemutatott indexalapú listaelem-kiválasztással. Egy \\[2:\\] hozzáadásával eldobhatjuk a 0 és 1 indexen álló 0 és b írásjeleket, ezzel hátrahagyva a számunkra érdekes bináris számjegyeket."
   ]
  },
  {
   "cell_type": "code",
   "execution_count": 19,
   "id": "7879b02d",
   "metadata": {
    "scrolled": true
   },
   "outputs": [
    {
     "name": "stdout",
     "output_type": "stream",
     "text": [
      "10\n",
      "<class 'str'>\n"
     ]
    }
   ],
   "source": [
    "my_bin = bin(2)\n",
    "print(my_bin[2:])\n",
    "print(type(my_bin))"
   ]
  },
  {
   "cell_type": "markdown",
   "id": "e1fde124",
   "metadata": {},
   "source": [
    "Ehhez nem szükséges külön változóba kimenteni a 0b-s szövegünket, tudunk közvetlenül a bin() függvénnyel dolgozni."
   ]
  },
  {
   "cell_type": "code",
   "execution_count": 20,
   "id": "10c948f2",
   "metadata": {},
   "outputs": [
    {
     "name": "stdout",
     "output_type": "stream",
     "text": [
      "0 bináris alakja: 0\n",
      "1 bináris alakja: 1\n",
      "2 bináris alakja: 10\n",
      "3 bináris alakja: 11\n",
      "4 bináris alakja: 100\n",
      "5 bináris alakja: 101\n",
      "10 bináris alakja: 1010\n",
      "100 bináris alakja: 1100100\n",
      "1000 bináris alakja: 1111101000\n"
     ]
    }
   ],
   "source": [
    "print(\"0 bináris alakja:\", bin(0)[2:])\n",
    "print(\"1 bináris alakja:\", bin(1)[2:])\n",
    "print(\"2 bináris alakja:\", bin(2)[2:])\n",
    "print(\"3 bináris alakja:\", bin(3)[2:])\n",
    "print(\"4 bináris alakja:\", bin(4)[2:])\n",
    "print(\"5 bináris alakja:\", bin(5)[2:])\n",
    "print(\"10 bináris alakja:\", bin(10)[2:])\n",
    "print(\"100 bináris alakja:\", bin(100)[2:])\n",
    "print(\"1000 bináris alakja:\", bin(1000)[2:])"
   ]
  }
 ],
 "metadata": {
  "kernelspec": {
   "display_name": "Python 3 (ipykernel)",
   "language": "python",
   "name": "python3"
  },
  "language_info": {
   "codemirror_mode": {
    "name": "ipython",
    "version": 3
   },
   "file_extension": ".py",
   "mimetype": "text/x-python",
   "name": "python",
   "nbconvert_exporter": "python",
   "pygments_lexer": "ipython3",
   "version": "3.10.6"
  }
 },
 "nbformat": 4,
 "nbformat_minor": 5
}
