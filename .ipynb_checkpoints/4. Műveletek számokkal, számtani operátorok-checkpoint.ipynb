{
 "cells": [
  {
   "cell_type": "markdown",
   "id": "0c2263c3",
   "metadata": {},
   "source": [
    "# Szövegek kiírása konzolra"
   ]
  },
  {
   "cell_type": "markdown",
   "id": "6c1bfd56",
   "metadata": {},
   "source": [
    "## A print() függvény"
   ]
  },
  {
   "cell_type": "markdown",
   "id": "c62e62f0",
   "metadata": {},
   "source": [
    "A print() függvény kiírja az argumentumként (azaz a zárójelben valós értékként) megadott szöveget, vagy szöveggé konvertált más típusú változót egy új sorba. A szövegek megadhatók egyes '', vagy dupla \"\" idézőjelek között, a Python nem tesz különbséget."
   ]
  },
  {
   "cell_type": "code",
   "execution_count": 69,
   "id": "9acb03dd",
   "metadata": {},
   "outputs": [
    {
     "name": "stdout",
     "output_type": "stream",
     "text": [
      "Hello World!\n",
      "Hello World!\n"
     ]
    }
   ],
   "source": [
    "print('Hello World!')\n",
    "print(\"Hello World!\")"
   ]
  },
  {
   "cell_type": "markdown",
   "id": "4a4bacf7",
   "metadata": {},
   "source": [
    "Szöveges értékek összefűzhetőek a + számtani operátorral."
   ]
  },
  {
   "cell_type": "code",
   "execution_count": 2,
   "id": "677a7776",
   "metadata": {},
   "outputs": [
    {
     "name": "stdout",
     "output_type": "stream",
     "text": [
      "Szövegek összefűzve + jellel.\n"
     ]
    }
   ],
   "source": [
    "print(\"Szövegek \" + \"összefűzve \" + \"+ \" + \"jellel.\")"
   ]
  },
  {
   "cell_type": "markdown",
   "id": "79f115e3",
   "metadata": {},
   "source": [
    "Idézőjeleket konzolra úgynevezett feloldójel (escape character) segítségével lehet kiírni. Az idézőjel elé be kell egy fordított perjelet írni az AltGr + Q billentyűparanccsal."
   ]
  },
  {
   "cell_type": "code",
   "execution_count": 3,
   "id": "f14220fd",
   "metadata": {},
   "outputs": [
    {
     "name": "stdout",
     "output_type": "stream",
     "text": [
      "Idézőjelek: \"Kétszeres\", 'Egyszeres'\n"
     ]
    }
   ],
   "source": [
    "print(\"Idézőjelek: \\\"Kétszeres\\\", \\'Egyszeres\\'\")"
   ]
  },
  {
   "cell_type": "markdown",
   "id": "62013441",
   "metadata": {},
   "source": [
    "Argumentum nélkül (azaz üres zárójellel) meghívott print parancsok egy üres sort írnak ki konzolra."
   ]
  },
  {
   "cell_type": "code",
   "execution_count": 4,
   "id": "6b398256",
   "metadata": {},
   "outputs": [
    {
     "name": "stdout",
     "output_type": "stream",
     "text": [
      "\n"
     ]
    }
   ],
   "source": [
    "print()"
   ]
  },
  {
   "cell_type": "markdown",
   "id": "dd239d3c",
   "metadata": {},
   "source": [
    "Több sorban is ki lehet írni szövegeket a print() függvénnyel. Alapból a print() függvényben argumentumként megadott szövegek sortörése elvész konzolra kiíráskor."
   ]
  },
  {
   "cell_type": "code",
   "execution_count": 5,
   "id": "d9b30615",
   "metadata": {},
   "outputs": [
    {
     "name": "stdout",
     "output_type": "stream",
     "text": [
      "1.sor2.sor\n"
     ]
    }
   ],
   "source": [
    "print(\"1.sor\"\n",
    "      \"2.sor\")"
   ]
  },
  {
   "cell_type": "markdown",
   "id": "b33bbf5e",
   "metadata": {},
   "source": [
    "Sortöréses kiírásra több módszer is létezik. A legegyszerűbb az, ha több külön print() parancsot használunk, amelyek mindegyike külön sorban írja ki a maga argumentumát."
   ]
  },
  {
   "cell_type": "code",
   "execution_count": 6,
   "id": "0884f0e0",
   "metadata": {},
   "outputs": [
    {
     "name": "stdout",
     "output_type": "stream",
     "text": [
      "Sortörés, első módszer:\n",
      "1.sor\n",
      "2.sor\n"
     ]
    }
   ],
   "source": [
    "print(\"Sortörés, első módszer:\")\n",
    "print(\"1.sor\")\n",
    "print(\"2.sor\")"
   ]
  },
  {
   "cell_type": "markdown",
   "id": "766ed2b8",
   "metadata": {},
   "source": [
    "Ez a módszer viszont sok helyet foglal, és nem éppen elegáns, hosszabb szövegeknél átláthatatlanná teszi a kódot. Ha egy print() függvény argumentumát hármas idézőjelekkel adjuk meg, akkor megmaradnak az ott megadott sortörések."
   ]
  },
  {
   "cell_type": "code",
   "execution_count": 7,
   "id": "857c0bbd",
   "metadata": {},
   "outputs": [
    {
     "name": "stdout",
     "output_type": "stream",
     "text": [
      "Sortörés, második módszer:\n",
      "1.sor\n",
      "2.sor\n"
     ]
    }
   ],
   "source": [
    "print(\"\"\"Sortörés, második módszer:\n",
    "1.sor\n",
    "2.sor\"\"\")"
   ]
  },
  {
   "cell_type": "markdown",
   "id": "5f5897c8",
   "metadata": {},
   "source": [
    "A harmadik, és a legtöbb programozási nyelven bevett módszer pedig a \\n (newline, azaz új sor) karakter beillesztése oda, ahol sort akarunk törni."
   ]
  },
  {
   "cell_type": "code",
   "execution_count": 8,
   "id": "a846821b",
   "metadata": {},
   "outputs": [
    {
     "name": "stdout",
     "output_type": "stream",
     "text": [
      "Sortörés, harmadik módszer:\n",
      "1.sor\n",
      "2.sor\n"
     ]
    }
   ],
   "source": [
    "print(\"Sortörés, harmadik módszer:\\n1.sor\\n2.sor\")"
   ]
  },
  {
   "cell_type": "markdown",
   "id": "85a303c1",
   "metadata": {},
   "source": [
    "A \\t (tabulátor) karakterrel behúzhatjuk jobbra a kinyomtatott szövegünket."
   ]
  },
  {
   "cell_type": "code",
   "execution_count": 9,
   "id": "d9a8c327",
   "metadata": {},
   "outputs": [
    {
     "name": "stdout",
     "output_type": "stream",
     "text": [
      "\tBehúzott szöveg\n"
     ]
    }
   ],
   "source": [
    "print(\"\\tBehúzott szöveg\")"
   ]
  },
  {
   "cell_type": "markdown",
   "id": "f6960d58",
   "metadata": {},
   "source": [
    "## Változók, és típusaik"
   ]
  },
  {
   "cell_type": "markdown",
   "id": "21550f32",
   "metadata": {},
   "source": [
    "Ha egy értéket később újrahasználnánk, vagy módosítanánk, változóban fogjuk tárolni. A Pythonban létrehozáskor kell\n",
    "neki egy nevet és egy értéket adni. Ez alapján be fogjuk tudni őket azonosítani, a programfordító pedig meg tudja\n",
    "mondani, milyen a típusuk. A nevet és értéket az = (értékadás) operátorral kötjük össze. Nem összekeverendő az\n",
    "== (összehasonlítás) operátorral."
   ]
  },
  {
   "cell_type": "markdown",
   "id": "0b4bb3d7",
   "metadata": {},
   "source": [
    "int: integer, azaz egész szám. Egész számok tárolására képes."
   ]
  },
  {
   "cell_type": "code",
   "execution_count": 10,
   "id": "0c199921",
   "metadata": {},
   "outputs": [
    {
     "name": "stdout",
     "output_type": "stream",
     "text": [
      "Ilyen a my_int: 121\n"
     ]
    }
   ],
   "source": [
    "my_int = 121\n",
    "print(\"Ilyen a my_int:\", my_int)"
   ]
  },
  {
   "cell_type": "markdown",
   "id": "b46310b5",
   "metadata": {},
   "source": [
    "float: floating point, azaz lebegőpontos ábrázolású szám. Tizedestört-számok tárolására képes normálalakban. Fontos megjegyezni, hogy nem feltétlenül képes a megadott értéket tökéletes pontossággal tárolni, ezért a vele történő műveletek nagyon minimális (értsd, jellegzetesen kevesebb, mint néhány billiomod) eltérést tudnak okozni."
   ]
  },
  {
   "cell_type": "code",
   "execution_count": 11,
   "id": "a13111df",
   "metadata": {},
   "outputs": [
    {
     "name": "stdout",
     "output_type": "stream",
     "text": [
      "Ilyen a my_float: 1.618\n"
     ]
    }
   ],
   "source": [
    "my_float = 1.618\n",
    "print(\"Ilyen a my_float:\", my_float)"
   ]
  },
  {
   "cell_type": "markdown",
   "id": "19cb83f5",
   "metadata": {},
   "source": [
    "str: string, azaz szöveget tartalmaz. Hasznos rá bizonyos körülmények között úgy gondolni, mint írásjelek listája. A Pythonban használhatunk jelölésükre egyszeres (') vagy dupla idézőjelet (\"), nincs különbség."
   ]
  },
  {
   "cell_type": "code",
   "execution_count": 12,
   "id": "50de38ab",
   "metadata": {},
   "outputs": [
    {
     "name": "stdout",
     "output_type": "stream",
     "text": [
      "Ilyen a my_str: Hello world!\n"
     ]
    }
   ],
   "source": [
    "my_str = \"Hello world!\"\n",
    "print(\"Ilyen a my_str:\", my_str)"
   ]
  },
  {
   "cell_type": "markdown",
   "id": "e6d94856",
   "metadata": {},
   "source": [
    "bool: \"boolean\", azaz logikai változó. Igaz (True), vagy hamis (False) értéket vehet fel."
   ]
  },
  {
   "cell_type": "code",
   "execution_count": 13,
   "id": "d8058e3d",
   "metadata": {},
   "outputs": [
    {
     "name": "stdout",
     "output_type": "stream",
     "text": [
      "Ilyen a my_bool: False\n"
     ]
    }
   ],
   "source": [
    "my_bool = False\n",
    "print(\"Ilyen a my_bool:\", my_bool)"
   ]
  },
  {
   "cell_type": "markdown",
   "id": "8a55070c",
   "metadata": {},
   "source": [
    "list: lista, azaz elemek sorozata. Az elemeket elérhetjük az értékük, vagy sorszámuk (index) alapján. A sorszámozás (indexelés) 0-tól indul. "
   ]
  },
  {
   "cell_type": "code",
   "execution_count": 14,
   "id": "0dbec7ce",
   "metadata": {},
   "outputs": [
    {
     "name": "stdout",
     "output_type": "stream",
     "text": [
      "Ilyen a list: [121, 1.618, 'Hello world!', False]\n"
     ]
    }
   ],
   "source": [
    "my_list = [my_int, my_float, my_str, my_bool]\n",
    "print(\"Ilyen a list:\", my_list)"
   ]
  },
  {
   "cell_type": "markdown",
   "id": "b8f1ff92",
   "metadata": {},
   "source": [
    "Tehát ezen a listán a my_int indexe 0, a my_float-é 1, a my_string-é 2, és a my_bool-e 3. Bármilyen elemet tehetünk bármilyen listába, nincs meghatározva, hogy adott listába csak float, vagy int, vagy egyéb objektum mehet. Viszont, hogyha végigmegyünk az összes elemén, és valamit csinálni szeretnénk velük, akkor fontos észben tartani, milyen fajta elemekről van szó. Pl. egy bool-t nem fog engedni eosztani 2-vel."
   ]
  },
  {
   "cell_type": "markdown",
   "id": "e2925d8d",
   "metadata": {},
   "source": [
    " ### Típus lekérése"
   ]
  },
  {
   "cell_type": "markdown",
   "id": "c008b48b",
   "metadata": {},
   "source": [
    "Le lehet kérdezni egy adott változó típusát a type() függvénnyel, amely visszaadja, milyen úgynevezett osztályhoz tartozik az argumentumként megadott objektum."
   ]
  },
  {
   "cell_type": "code",
   "execution_count": 15,
   "id": "99b2a8f1",
   "metadata": {},
   "outputs": [
    {
     "name": "stdout",
     "output_type": "stream",
     "text": [
      "A my_int változó típusa: <class 'int'>\n",
      "A my_float változó típusa: <class 'float'>\n",
      "A my_str változó típusa: <class 'str'>\n",
      "A my_bool változó típusa: <class 'bool'>\n",
      "A my_list változó típusa: <class 'list'>\n"
     ]
    }
   ],
   "source": [
    "print(\"A my_int változó típusa:\", type(my_int))\n",
    "print(\"A my_float változó típusa:\", type(my_float))\n",
    "print(\"A my_str változó típusa:\", type(my_str))\n",
    "print(\"A my_bool változó típusa:\", type(my_bool))\n",
    "print(\"A my_list változó típusa:\", type(my_list))"
   ]
  },
  {
   "cell_type": "markdown",
   "id": "8b300249",
   "metadata": {},
   "source": [
    "### Konvertálás"
   ]
  },
  {
   "cell_type": "markdown",
   "id": "59d49743",
   "metadata": {},
   "source": [
    "int → float: Int típusú változó mindig átalakítható floattá, elvégre minden egész szám kifejezhető tizedes alakban."
   ]
  },
  {
   "cell_type": "code",
   "execution_count": 16,
   "id": "55b4ba15",
   "metadata": {},
   "outputs": [
    {
     "name": "stdout",
     "output_type": "stream",
     "text": [
      "my_int floattá alakítva: 121.0\n"
     ]
    }
   ],
   "source": [
    "my_int = 121\n",
    "int_to_float = float(my_int)\n",
    "print(\"my_int floattá alakítva:\", int_to_float)"
   ]
  },
  {
   "cell_type": "markdown",
   "id": "22af5dab",
   "metadata": {},
   "source": [
    "float → int: Float változók is mindig átalakíthatóak intre. Ilyenkor a szám törtrésze törlésre kerül, vagyis lekerekít a legközelebbi egészhez, ami teljesen megvan benne. Ez azt jelenti, hogy ez az átalakítás nem követi a kerekítés hagyományos szabályait!"
   ]
  },
  {
   "cell_type": "code",
   "execution_count": 17,
   "id": "00cb9c8f",
   "metadata": {},
   "outputs": [
    {
     "name": "stdout",
     "output_type": "stream",
     "text": [
      "my_float intté alakítva: 1\n"
     ]
    }
   ],
   "source": [
    "my_float = 1.618\n",
    "float_to_int = int(my_float)\n",
    "print(\"my_float intté alakítva:\", float_to_int)"
   ]
  },
  {
   "cell_type": "markdown",
   "id": "72d3229b",
   "metadata": {},
   "source": [
    "int → str, float → str: Ezek az átalakítások is minden esetben lehetségesek. Számokat tudunk ezen függvények segítségével szövegként kezelni, így pl. számjegyekre bontani. A print() ugyanúgy nyomtatja ki a stringet és az intet konzolra, de ezek használata után már nem fogjuk tudni a tárolt értékeken a számtani operátorokat matematikára alkalmazni."
   ]
  },
  {
   "cell_type": "code",
   "execution_count": 18,
   "id": "19294ebe",
   "metadata": {},
   "outputs": [
    {
     "name": "stdout",
     "output_type": "stream",
     "text": [
      "my_int stringgé alakítva: 121\n",
      "my_float stringgé alakítva: 1.618\n"
     ]
    }
   ],
   "source": [
    "my_int = 121\n",
    "int_to_str = str(my_int)\n",
    "print(\"my_int stringgé alakítva:\", int_to_str)\n",
    "\n",
    "my_float = 1.618\n",
    "float_to_str = str(my_float)\n",
    "print(\"my_float stringgé alakítva:\", float_to_str)"
   ]
  },
  {
   "cell_type": "markdown",
   "id": "1fedaa1d",
   "metadata": {},
   "source": [
    "str → int, str → float: Ezek a függvények képesek hibát okozni. Hogyha a stringként tárolt változó csak és kizárólag 0 és 9 közötti számokból áll, az átalakítás gond nélkül működni fog. Gyakran használjuk őket input() segítségével felhasználótól bekért számok használhatóvá tételére. Lentebb bemutatott függvényekkel fogjuk tudni a szövegek tartalmát ellenőrizni."
   ]
  },
  {
   "cell_type": "code",
   "execution_count": 19,
   "id": "30f8433c",
   "metadata": {},
   "outputs": [
    {
     "name": "stdout",
     "output_type": "stream",
     "text": [
      "my_str intté átalakítva: 123456789\n",
      "my_str floattá átalakítva: 123456789.0\n"
     ]
    }
   ],
   "source": [
    "my_str = \"123456789\"\n",
    "str_to_int = int(my_str)\n",
    "print(\"my_str intté átalakítva:\", str_to_int)\n",
    "\n",
    "my_str = \"123456789\"\n",
    "str_to_float = float(my_str)\n",
    "print(\"my_str floattá átalakítva:\", str_to_float)"
   ]
  },
  {
   "cell_type": "markdown",
   "id": "39d55ac6",
   "metadata": {},
   "source": [
    "Érvénytelen argumentum esetén hibát kapunk."
   ]
  },
  {
   "cell_type": "code",
   "execution_count": 20,
   "id": "ac406a1b",
   "metadata": {
    "scrolled": true
   },
   "outputs": [
    {
     "ename": "ValueError",
     "evalue": "invalid literal for int() with base 10: 'abcdef'",
     "output_type": "error",
     "traceback": [
      "\u001b[1;31m---------------------------------------------------------------------------\u001b[0m",
      "\u001b[1;31mValueError\u001b[0m                                Traceback (most recent call last)",
      "Input \u001b[1;32mIn [20]\u001b[0m, in \u001b[0;36m<cell line: 2>\u001b[1;34m()\u001b[0m\n\u001b[0;32m      1\u001b[0m my_str \u001b[38;5;241m=\u001b[39m \u001b[38;5;124m\"\u001b[39m\u001b[38;5;124mabcdef\u001b[39m\u001b[38;5;124m\"\u001b[39m\n\u001b[1;32m----> 2\u001b[0m str_to_int \u001b[38;5;241m=\u001b[39m \u001b[38;5;28;43mint\u001b[39;49m\u001b[43m(\u001b[49m\u001b[43mmy_str\u001b[49m\u001b[43m)\u001b[49m\n\u001b[0;32m      3\u001b[0m \u001b[38;5;28mprint\u001b[39m(\u001b[38;5;124m\"\u001b[39m\u001b[38;5;124mmy_str intté átalakítva:\u001b[39m\u001b[38;5;124m\"\u001b[39m, str_to_int)\n",
      "\u001b[1;31mValueError\u001b[0m: invalid literal for int() with base 10: 'abcdef'"
     ]
    }
   ],
   "source": [
    "my_str = \"abcdef\"\n",
    "str_to_int = int(my_str)\n",
    "print(\"my_str intté átalakítva:\", str_to_int)"
   ]
  },
  {
   "cell_type": "code",
   "execution_count": 21,
   "id": "f3ef9edf",
   "metadata": {
    "collapsed": true
   },
   "outputs": [
    {
     "ename": "ValueError",
     "evalue": "could not convert string to float: 'イースター・エッグ'",
     "output_type": "error",
     "traceback": [
      "\u001b[1;31m---------------------------------------------------------------------------\u001b[0m",
      "\u001b[1;31mValueError\u001b[0m                                Traceback (most recent call last)",
      "Input \u001b[1;32mIn [21]\u001b[0m, in \u001b[0;36m<cell line: 2>\u001b[1;34m()\u001b[0m\n\u001b[0;32m      1\u001b[0m my_str \u001b[38;5;241m=\u001b[39m \u001b[38;5;124m\"\u001b[39m\u001b[38;5;124mイースター・エッグ\u001b[39m\u001b[38;5;124m\"\u001b[39m\n\u001b[1;32m----> 2\u001b[0m str_to_float \u001b[38;5;241m=\u001b[39m \u001b[38;5;28;43mfloat\u001b[39;49m\u001b[43m(\u001b[49m\u001b[43mmy_str\u001b[49m\u001b[43m)\u001b[49m\n\u001b[0;32m      3\u001b[0m \u001b[38;5;28mprint\u001b[39m(\u001b[38;5;124m\"\u001b[39m\u001b[38;5;124mmy_str floattá átalakítva:\u001b[39m\u001b[38;5;124m\"\u001b[39m, str_to_float)\n",
      "\u001b[1;31mValueError\u001b[0m: could not convert string to float: 'イースター・エッグ'"
     ]
    }
   ],
   "source": [
    "my_str = \"イースター・エッグ\"\n",
    "str_to_float = float(my_str)\n",
    "print(\"my_str floattá átalakítva:\", str_to_float)"
   ]
  },
  {
   "cell_type": "markdown",
   "id": "f18b770d",
   "metadata": {},
   "source": [
    "### Változók kiírása print()-tel"
   ]
  },
  {
   "cell_type": "markdown",
   "id": "71c1643f",
   "metadata": {},
   "source": [
    "A print() függvény fogad megnevezett változókat, mint argumentum."
   ]
  },
  {
   "cell_type": "code",
   "execution_count": 22,
   "id": "b5ed55c6",
   "metadata": {},
   "outputs": [
    {
     "name": "stdout",
     "output_type": "stream",
     "text": [
      "Változók egyszerű kinyomtatása:\n",
      "Hello world!\n",
      "121\n",
      "1.618\n"
     ]
    }
   ],
   "source": [
    "print(\"Változók egyszerű kinyomtatása:\")\n",
    "my_str = \"Hello world!\"\n",
    "print(my_str)\n",
    "my_int = 121\n",
    "print(my_int)\n",
    "my_float = 1.618\n",
    "print(my_float)"
   ]
  },
  {
   "cell_type": "markdown",
   "id": "d73e14ca",
   "metadata": {},
   "source": [
    "Szöveggel több módon is össze tudjuk fűzni a változóinkat. A legalapvetőbb a + jeles összekapcsolás. Ezzel a módszerrel azonban csak string objektumokat tudunk alapból összefűzni, mert számok esetén nem lenne egyértelmű, hogy összeadást, vagy összefűzést akarunk-e végezni, ezért hibaüzenetet kapunk."
   ]
  },
  {
   "cell_type": "code",
   "execution_count": 23,
   "id": "168f85c6",
   "metadata": {},
   "outputs": [
    {
     "name": "stdout",
     "output_type": "stream",
     "text": [
      "Összefűzés + jellel:\n",
      "A my_str értéke: Hello world!\n"
     ]
    }
   ],
   "source": [
    "print(\"Összefűzés + jellel:\")\n",
    "print(\"A my_str értéke: \" + my_str)"
   ]
  },
  {
   "cell_type": "markdown",
   "id": "f4ac3bbd",
   "metadata": {},
   "source": [
    "Konvertáló függvény nélkül:"
   ]
  },
  {
   "cell_type": "code",
   "execution_count": 25,
   "id": "8b53cf98",
   "metadata": {},
   "outputs": [
    {
     "ename": "TypeError",
     "evalue": "can only concatenate str (not \"int\") to str",
     "output_type": "error",
     "traceback": [
      "\u001b[1;31m---------------------------------------------------------------------------\u001b[0m",
      "\u001b[1;31mTypeError\u001b[0m                                 Traceback (most recent call last)",
      "Input \u001b[1;32mIn [25]\u001b[0m, in \u001b[0;36m<cell line: 1>\u001b[1;34m()\u001b[0m\n\u001b[1;32m----> 1\u001b[0m \u001b[38;5;28mprint\u001b[39m(\u001b[38;5;124;43m\"\u001b[39;49m\u001b[38;5;124;43mA my_int értéke: \u001b[39;49m\u001b[38;5;124;43m\"\u001b[39;49m\u001b[43m \u001b[49m\u001b[38;5;241;43m+\u001b[39;49m\u001b[43m \u001b[49m\u001b[43mmy_int\u001b[49m)\n",
      "\u001b[1;31mTypeError\u001b[0m: can only concatenate str (not \"int\") to str"
     ]
    }
   ],
   "source": [
    "print(\"A my_int értéke: \" + my_int)"
   ]
  },
  {
   "cell_type": "code",
   "execution_count": 26,
   "id": "b64b90e5",
   "metadata": {
    "scrolled": true
   },
   "outputs": [
    {
     "ename": "TypeError",
     "evalue": "can only concatenate str (not \"float\") to str",
     "output_type": "error",
     "traceback": [
      "\u001b[1;31m---------------------------------------------------------------------------\u001b[0m",
      "\u001b[1;31mTypeError\u001b[0m                                 Traceback (most recent call last)",
      "Input \u001b[1;32mIn [26]\u001b[0m, in \u001b[0;36m<cell line: 1>\u001b[1;34m()\u001b[0m\n\u001b[1;32m----> 1\u001b[0m \u001b[38;5;28mprint\u001b[39m(\u001b[38;5;124;43m\"\u001b[39;49m\u001b[38;5;124;43mA my_float értéke: \u001b[39;49m\u001b[38;5;124;43m\"\u001b[39;49m\u001b[43m \u001b[49m\u001b[38;5;241;43m+\u001b[39;49m\u001b[43m \u001b[49m\u001b[43mmy_float\u001b[49m)\n",
      "\u001b[1;31mTypeError\u001b[0m: can only concatenate str (not \"float\") to str"
     ]
    }
   ],
   "source": [
    "print(\"A my_float értéke: \" + my_float)"
   ]
  },
  {
   "cell_type": "markdown",
   "id": "1fa861f5",
   "metadata": {},
   "source": [
    "Konvertáló függvénnyel:"
   ]
  },
  {
   "cell_type": "code",
   "execution_count": 27,
   "id": "b89a1cf4",
   "metadata": {
    "scrolled": true
   },
   "outputs": [
    {
     "name": "stdout",
     "output_type": "stream",
     "text": [
      "A my_int értéke: 121\n",
      "A my_float értéke: 1.618\n",
      "A my_str értéke Hello world!, a my_int értéke 121, a my_float értéke 1.618.\n"
     ]
    }
   ],
   "source": [
    "print(\"A my_int értéke: \" + str(my_int))\n",
    "print(\"A my_float értéke: \" + str(my_float))\n",
    "print(\"A my_str értéke \" + my_str + \", a my_int értéke \" + str(my_int) + \", a my_float értéke \" + str(my_float) + \".\")"
   ]
  },
  {
   "cell_type": "markdown",
   "id": "c24049b9",
   "metadata": {},
   "source": [
    "Egy másik módszer a százalékjeles behelyettesítés. Az idézőjelen belüli %s helyére bekerül a külső % jel után meghívott változó értéke. Léteznek egyéb behelyettesítési jelzők (%d, %f, %x, stb.) de ezek nem fontosak jelenlegi céljainkra."
   ]
  },
  {
   "cell_type": "code",
   "execution_count": 28,
   "id": "255f9ca1",
   "metadata": {},
   "outputs": [
    {
     "name": "stdout",
     "output_type": "stream",
     "text": [
      "A my_str értéke: Hello world!\n"
     ]
    }
   ],
   "source": [
    "print(\"A my_str értéke: %s\" % my_str)"
   ]
  },
  {
   "cell_type": "markdown",
   "id": "28d4f4ad",
   "metadata": {},
   "source": [
    "Ezzel a metódussal nem szükséges konvertáló függvényeket használni, automatikusan megtörténik az átalakítás."
   ]
  },
  {
   "cell_type": "code",
   "execution_count": 30,
   "id": "c53c4171",
   "metadata": {},
   "outputs": [
    {
     "name": "stdout",
     "output_type": "stream",
     "text": [
      "A my_int értéke: 121\n",
      "A my_float értéke: 1.618\n"
     ]
    }
   ],
   "source": [
    "print(\"A my_int értéke: %s\" % my_int)\n",
    "print(\"A my_float értéke: %s\" % my_float)"
   ]
  },
  {
   "cell_type": "markdown",
   "id": "660a799e",
   "metadata": {},
   "source": [
    "Több változó behelyettesítésekor a külső % jel után a változókat zárójelbe kell tenni. A behelyettesítés abban a sorrendben történik, ahogy a zárójelben megjelennek. Az idézőjeleken belüli %s-ek és behelyettesítendő változók számának egyeznie kell. Ha több, vagy kevesebb, hibát dob a program."
   ]
  },
  {
   "cell_type": "code",
   "execution_count": 31,
   "id": "cf30a44e",
   "metadata": {},
   "outputs": [
    {
     "name": "stdout",
     "output_type": "stream",
     "text": [
      "A my_str értéke Hello world!, a my_int értéke 121, a my_float értéke 1.618.\n"
     ]
    }
   ],
   "source": [
    "print(\"A my_str értéke %s, a my_int értéke %s, a my_float értéke %s.\" % (my_str, my_int, my_float))"
   ]
  },
  {
   "cell_type": "markdown",
   "id": "497844af",
   "metadata": {},
   "source": [
    "Eltérő számú behelyettesítési jelző és változóval:"
   ]
  },
  {
   "cell_type": "code",
   "execution_count": 32,
   "id": "96a35f6f",
   "metadata": {},
   "outputs": [
    {
     "ename": "TypeError",
     "evalue": "not all arguments converted during string formatting",
     "output_type": "error",
     "traceback": [
      "\u001b[1;31m---------------------------------------------------------------------------\u001b[0m",
      "\u001b[1;31mTypeError\u001b[0m                                 Traceback (most recent call last)",
      "Input \u001b[1;32mIn [32]\u001b[0m, in \u001b[0;36m<cell line: 1>\u001b[1;34m()\u001b[0m\n\u001b[1;32m----> 1\u001b[0m \u001b[38;5;28mprint\u001b[39m(\u001b[38;5;124;43m\"\u001b[39;49m\u001b[38;5;124;43mA my_str értéke \u001b[39;49m\u001b[38;5;132;43;01m%s\u001b[39;49;00m\u001b[38;5;124;43m, a my_int értéke \u001b[39;49m\u001b[38;5;132;43;01m%s\u001b[39;49;00m\u001b[38;5;124;43m.\u001b[39;49m\u001b[38;5;124;43m\"\u001b[39;49m\u001b[43m \u001b[49m\u001b[38;5;241;43m%\u001b[39;49m\u001b[43m \u001b[49m\u001b[43m(\u001b[49m\u001b[43mmy_str\u001b[49m\u001b[43m,\u001b[49m\u001b[43m \u001b[49m\u001b[43mmy_int\u001b[49m\u001b[43m,\u001b[49m\u001b[43m \u001b[49m\u001b[43mmy_float\u001b[49m\u001b[43m)\u001b[49m)\n",
      "\u001b[1;31mTypeError\u001b[0m: not all arguments converted during string formatting"
     ]
    }
   ],
   "source": [
    "print(\"A my_str értéke %s, a my_int értéke %s.\" % (my_str, my_int, my_float))"
   ]
  },
  {
   "cell_type": "code",
   "execution_count": 33,
   "id": "9a212aff",
   "metadata": {},
   "outputs": [
    {
     "ename": "TypeError",
     "evalue": "not enough arguments for format string",
     "output_type": "error",
     "traceback": [
      "\u001b[1;31m---------------------------------------------------------------------------\u001b[0m",
      "\u001b[1;31mTypeError\u001b[0m                                 Traceback (most recent call last)",
      "Input \u001b[1;32mIn [33]\u001b[0m, in \u001b[0;36m<cell line: 1>\u001b[1;34m()\u001b[0m\n\u001b[1;32m----> 1\u001b[0m \u001b[38;5;28mprint\u001b[39m(\u001b[38;5;124;43m\"\u001b[39;49m\u001b[38;5;124;43mA my_str értéke \u001b[39;49m\u001b[38;5;132;43;01m%s\u001b[39;49;00m\u001b[38;5;124;43m, a my_int értéke \u001b[39;49m\u001b[38;5;132;43;01m%s\u001b[39;49;00m\u001b[38;5;124;43m, a my_float értéke \u001b[39;49m\u001b[38;5;132;43;01m%s\u001b[39;49;00m\u001b[38;5;124;43m.\u001b[39;49m\u001b[38;5;124;43m\"\u001b[39;49m\u001b[43m \u001b[49m\u001b[38;5;241;43m%\u001b[39;49m\u001b[43m \u001b[49m\u001b[43m(\u001b[49m\u001b[43mmy_str\u001b[49m\u001b[43m,\u001b[49m\u001b[43m \u001b[49m\u001b[43mmy_int\u001b[49m\u001b[43m)\u001b[49m)\n",
      "\u001b[1;31mTypeError\u001b[0m: not enough arguments for format string"
     ]
    }
   ],
   "source": [
    "print(\"A my_str értéke %s, a my_int értéke %s, a my_float értéke %s.\" % (my_str, my_int))"
   ]
  },
  {
   "cell_type": "markdown",
   "id": "ff3ed29d",
   "metadata": {},
   "source": [
    "A print függvény képes tetszőleges számú argumentumot fogadni, melyeket vesszővel választjuk el meghíváskor. Ilyenkor az argumentumként megadott szövegeket és változókat alapvetően szóközök beszúrásával fűzi össze. Ez a harmadik módszerünk alapja."
   ]
  },
  {
   "cell_type": "code",
   "execution_count": 34,
   "id": "01e8ebe4",
   "metadata": {},
   "outputs": [
    {
     "name": "stdout",
     "output_type": "stream",
     "text": [
      "A my_str értéke: Hello world!\n"
     ]
    }
   ],
   "source": [
    "print(\"A my_str értéke:\", my_str)"
   ]
  },
  {
   "cell_type": "markdown",
   "id": "158d72f2",
   "metadata": {},
   "source": [
    "Megfigyelendő, hogy az argumentumként megadott szövegben a : után automatikusan be lett illesztve egy szóköz. Ezt nevezik az elválasztási paraméternek. Hasznos még tudni, hogy ezzel a módszerrel sincs szükségünk konvertáló függvényekre."
   ]
  },
  {
   "cell_type": "code",
   "execution_count": 35,
   "id": "bcb3bfa8",
   "metadata": {},
   "outputs": [
    {
     "name": "stdout",
     "output_type": "stream",
     "text": [
      "A my_int értéke: 121\n",
      "A my_float értéke: 1.618\n",
      "A my_str értéke Hello world! , a my_int értéke 121 , a my_float értéke 1.618 .\n"
     ]
    }
   ],
   "source": [
    "print(\"A my_int értéke:\", my_int)\n",
    "print(\"A my_float értéke:\", my_float)\n",
    "print(\"A my_str értéke\", my_str, \", a my_int értéke\", my_int, \", a my_float értéke\", my_float, \".\")"
   ]
  },
  {
   "cell_type": "markdown",
   "id": "3ca354ed",
   "metadata": {},
   "source": [
    "Az utolsó példában láthatjuk a problémát az automatikus szóközbeszúrással. Vesszők, illetve pont után bevett gyakorlat szóközt tenni, azonban eléjük nem az. Ezt a problémát kétféleképpen orvosolhatjuk.\n",
    "Az első módszer a \\b (backspace, azaz visszatörlés) karakter beillesztése oda, ahová tudjuk, hogy egy fölösleges szóközt be fog a program illeszteni."
   ]
  },
  {
   "cell_type": "code",
   "execution_count": 36,
   "id": "a9c0379a",
   "metadata": {},
   "outputs": [
    {
     "name": "stdout",
     "output_type": "stream",
     "text": [
      "A my_str értéke Hello world! \b, a my_int értéke 121 \b, a my_float értéke 1.618 \b.\n"
     ]
    }
   ],
   "source": [
    "print(\"A my_str értéke\", my_str, \"\\b, a my_int értéke\", my_int, \"\\b, a my_float értéke\", my_float, \"\\b.\")"
   ]
  },
  {
   "cell_type": "markdown",
   "id": "d9ab5060",
   "metadata": {},
   "source": [
    "Ez azonban nem éppen elegáns megoldás, elvégre két fölösleges lépést is elvégeztetünk a géppel a szóköz beszúrásával, majd azonnali törlésével. Éppen ezért gyakorlatiasabb felülírni az elválasztási paramétert, ami eddig a szóköz volt. Ezt úgy tudjuk megtenni, hogy a kinyomtatandó argumentumok után a sep kulcsszót beírjuk a print() függvény zárójelei közé, majd az = operátorral megadunk neki egy értéket. Ez az érték bármilyen tetszőleges szöveg lehet."
   ]
  },
  {
   "cell_type": "code",
   "execution_count": 39,
   "id": "4fa36dfd",
   "metadata": {},
   "outputs": [
    {
     "name": "stdout",
     "output_type": "stream",
     "text": [
      "A my_str értékeHello world!, a my_int értéke121, a my_float értéke1.618.\n"
     ]
    }
   ],
   "source": [
    "print(\"A my_str értéke\", my_str, \", a my_int értéke\", my_int, \", a my_float értéke\", my_float, \".\", sep=\"\")"
   ]
  },
  {
   "cell_type": "markdown",
   "id": "df10fd09",
   "metadata": {},
   "source": [
    "Ebben a példában üres szöveggé változtattuk az elválasztási paramétert, így az argumentumként megadott szövegek és változók értékei összemosódtak. Ahhoz, hogy a szöveget a kívánt formátumúra alakítsuk, manuálisan kell megadnunk, hová essenek, hasonlóan a + operátoros összefűzéshez. Ennél a módszernél azonban továbbra sem kell konvertáló függvényeket használnunk, így továbbra is előnyösebb."
   ]
  },
  {
   "cell_type": "code",
   "execution_count": 41,
   "id": "937c91e6",
   "metadata": {},
   "outputs": [
    {
     "name": "stdout",
     "output_type": "stream",
     "text": [
      "A my_str értéke Hello world!, a my_int értéke 121, a my_float értéke 1.618.\n"
     ]
    }
   ],
   "source": [
    "print(\"A my_str értéke \", my_str, \", a my_int értéke \", my_int, \", a my_float értéke \", my_float, \".\", sep=\"\")"
   ]
  },
  {
   "cell_type": "markdown",
   "id": "d0b4b24e",
   "metadata": {},
   "source": [
    "További példák a sep paraméterre (az üres print()-ek csak az eredmény átláthatóságának a kedvéért lettek betéve):"
   ]
  },
  {
   "cell_type": "code",
   "execution_count": 49,
   "id": "379ca695",
   "metadata": {},
   "outputs": [
    {
     "name": "stdout",
     "output_type": "stream",
     "text": [
      "A my_str értéke x Hello world! x , a my_int értéke x 121 x , a my_float értéke x 1.618 x .\n",
      "\n",
      "A my_str értéke😂Hello world!😂, a my_int értéke😂121😂, a my_float értéke😂1.618😂.\n",
      "\n",
      "A my_str értéke\tHello world!\t, a my_int értéke\t121\t, a my_float értéke\t1.618\t.\n",
      "\n",
      "A my_str értéke\n",
      "Hello world!\n",
      ", a my_int értéke\n",
      "121\n",
      ", a my_float értéke\n",
      "1.618\n",
      ".\n"
     ]
    }
   ],
   "source": [
    "print(\"A my_str értéke\", my_str, \", a my_int értéke\", my_int, \", a my_float értéke\", my_float, \".\", sep=\" x \")\n",
    "print()\n",
    "print(\"A my_str értéke\", my_str, \", a my_int értéke\", my_int, \", a my_float értéke\", my_float, \".\", sep=\"😂\")\n",
    "print()\n",
    "print(\"A my_str értéke\", my_str, \", a my_int értéke\", my_int, \", a my_float értéke\", my_float, \".\", sep=\"\\t\")\n",
    "print()\n",
    "print(\"A my_str értéke\", my_str, \", a my_int értéke\", my_int, \", a my_float értéke\", my_float, \".\", sep=\"\\n\")"
   ]
  },
  {
   "cell_type": "markdown",
   "id": "8cd3ccd6",
   "metadata": {},
   "source": [
    "Mint megfigyelhettük, alapvetően minden egyes print() kiírás külön sorban történik. Ennek a valódi oka az, hogy minden egyes print() parancsot egy \\n, sortörés karakter zár le. Ez a záró paraméter, és az elválasztó paraméterhez hasonlóan felülírható, az end kulcsszó használatával."
   ]
  },
  {
   "cell_type": "code",
   "execution_count": 51,
   "id": "22fc8e57",
   "metadata": {},
   "outputs": [
    {
     "name": "stdout",
     "output_type": "stream",
     "text": [
      "Első szövegMásodik szöveg"
     ]
    }
   ],
   "source": [
    "print(\"Első szöveg\", end=\"\")\n",
    "print(\"Második szöveg\", end=\"\")"
   ]
  },
  {
   "cell_type": "markdown",
   "id": "228bbd74",
   "metadata": {},
   "source": [
    "Mivel felülírtuk a záró paramétert, nem kerül beillesztésre a print()-re jellegzetes sortörés. Hasonlóképpen a sep paraméterhez, az end paraméter is tetszőleges szövegre állítható."
   ]
  },
  {
   "cell_type": "code",
   "execution_count": 52,
   "id": "bf007085",
   "metadata": {},
   "outputs": [
    {
     "name": "stdout",
     "output_type": "stream",
     "text": [
      "Első szöveg\n",
      "Második szövegHello World!\n",
      "Harmadik szöveg    Negyedik szöveg🤣Ötödik szöveg\n",
      "Overflow!"
     ]
    }
   ],
   "source": [
    "print(\"Első szöveg\", end=\"\\n\")\n",
    "print(\"Második szöveg\", end=\"Hello World!\\n\")\n",
    "print(\"Harmadik szöveg\", end=\"    \")\n",
    "print(\"Negyedik szöveg\", end=\"🤣\")\n",
    "print(\"Ötödik szöveg\", end=\"\\nOverflow!\")"
   ]
  },
  {
   "cell_type": "markdown",
   "id": "7a602ba6",
   "metadata": {},
   "source": [
    "Utolsó módszerünk változók print()-es kiírására az úgynevezett f-stringek. A kiírandó szöveget megnyitó és lezáró idézőjelek elé behelyezünk egy f betűt (a formázás szó rövidítése), és ezentúl a változók neveit kapcsos zárójelekbe (AltGr+B, AltGr+N) foglalva könnyen ki tudjuk íratni."
   ]
  },
  {
   "cell_type": "code",
   "execution_count": 53,
   "id": "55edb2bb",
   "metadata": {},
   "outputs": [
    {
     "name": "stdout",
     "output_type": "stream",
     "text": [
      "A my_str értéke: Hello world!\n",
      "A my_int értéke: 121\n",
      "A my_float értéke: 1.618\n",
      "A my_str értéke Hello world!, a my_int értéke 121, a my_float értéke 1.618.\n"
     ]
    }
   ],
   "source": [
    "print(f\"A my_str értéke: {my_str}\")\n",
    "print(f\"A my_int értéke: {my_int}\")\n",
    "print(f\"A my_float értéke: {my_float}\")\n",
    "print(f\"A my_str értéke {my_str}, a my_int értéke {my_int}, a my_float értéke {my_float}.\")"
   ]
  },
  {
   "cell_type": "markdown",
   "id": "4dd634d6",
   "metadata": {},
   "source": [
    "Ezzel a módszerrel tehetjük a legátláthatóbbá a kódunkat, és erősen javasolt a használata."
   ]
  },
  {
   "cell_type": "markdown",
   "id": "94ad3cf2",
   "metadata": {},
   "source": [
    "## Műveletek számokkal, számtani operátorok"
   ]
  },
  {
   "cell_type": "markdown",
   "id": "2b5590c1",
   "metadata": {},
   "source": [
    "A számítástechnikában használunk néhány olyan műveletet, amely nem feltétlenül alapvető, illetve néhány műveletnek vannak olyan sajátosságai, amelyekre különösképp oda kell figyelnünk. Az alábbi példákban csak int változók kerültek bemutatásra, de ugyanezek a műveletek float-okkal is működnének, annyi különbséggel, hogy minden eredmény úgyszintén float lenne."
   ]
  },
  {
   "cell_type": "markdown",
   "id": "a441f524",
   "metadata": {},
   "source": [
    "### Összeadás (+)"
   ]
  },
  {
   "cell_type": "code",
   "execution_count": 57,
   "id": "f1c447a2",
   "metadata": {},
   "outputs": [
    {
     "name": "stdout",
     "output_type": "stream",
     "text": [
      "x és y összege: 5\n"
     ]
    }
   ],
   "source": [
    "x = 2\n",
    "y = 3\n",
    "\n",
    "total = x + y\n",
    "print(\"x és y összege: \" + str(total))"
   ]
  },
  {
   "cell_type": "markdown",
   "id": "457ab1f7",
   "metadata": {},
   "source": [
    "Megjegyzendő, hogy angolul az \"összeg\" a 'sum' szó lenne valójában, de az egy lefoglalt kifejezés a Pythonban egy beépített függvénynek, így változónévként használata problémákat okozna."
   ]
  },
  {
   "cell_type": "markdown",
   "id": "19de6d6d",
   "metadata": {},
   "source": [
    "### Kivonás (-)"
   ]
  },
  {
   "cell_type": "code",
   "execution_count": 58,
   "id": "4d7ad0a6",
   "metadata": {},
   "outputs": [
    {
     "name": "stdout",
     "output_type": "stream",
     "text": [
      "x és y különbsége: -1\n"
     ]
    }
   ],
   "source": [
    "x = 2\n",
    "y = 3\n",
    "\n",
    "difference = x - y\n",
    "print(\"x és y különbsége: \" + str(difference))"
   ]
  },
  {
   "cell_type": "markdown",
   "id": "11316576",
   "metadata": {},
   "source": [
    "### Szorzás (\\*)"
   ]
  },
  {
   "cell_type": "code",
   "execution_count": 59,
   "id": "c5fd0380",
   "metadata": {},
   "outputs": [
    {
     "name": "stdout",
     "output_type": "stream",
     "text": [
      "x és y szorzata: 6\n"
     ]
    }
   ],
   "source": [
    "x = 2\n",
    "y = 3\n",
    "\n",
    "product = x * y\n",
    "print(\"x és y szorzata: \" + str(product))"
   ]
  },
  {
   "cell_type": "markdown",
   "id": "474c2365",
   "metadata": {},
   "source": [
    "### Osztás (/)"
   ]
  },
  {
   "cell_type": "markdown",
   "id": "3643e391",
   "metadata": {},
   "source": [
    "Az eddigi műveletek int típusokon elvégezve mindig int eredményt adtak. Az osztás azonban nem feltétlenül eredményez két egész számon elvégezve egy másik egész számot."
   ]
  },
  {
   "cell_type": "code",
   "execution_count": 61,
   "id": "a9c49855",
   "metadata": {},
   "outputs": [
    {
     "name": "stdout",
     "output_type": "stream",
     "text": [
      "x és y hányadosa: 0.6666666666666666\n"
     ]
    }
   ],
   "source": [
    "x = 2\n",
    "y = 3\n",
    "\n",
    "quotient = x / y\n",
    "print(\"x és y hányadosa: \" + str(quotient))"
   ]
  },
  {
   "cell_type": "markdown",
   "id": "0cb64d4d",
   "metadata": {},
   "source": [
    "Ennek köszönhetően az osztás eredménye mindig float, még akkor is, hogyha oz osztandó osztható az osztóval."
   ]
  },
  {
   "cell_type": "code",
   "execution_count": 62,
   "id": "6ce54741",
   "metadata": {},
   "outputs": [
    {
     "name": "stdout",
     "output_type": "stream",
     "text": [
      "x és y hányadosa: 2.0\n"
     ]
    }
   ],
   "source": [
    "x = 6\n",
    "y = 3\n",
    "\n",
    "quotient = x / y\n",
    "print(\"x és y hányadosa: \" + str(quotient))"
   ]
  },
  {
   "cell_type": "markdown",
   "id": "483e6540",
   "metadata": {},
   "source": [
    "### Osztás alsó egészrésze (//)"
   ]
  },
  {
   "cell_type": "markdown",
   "id": "034ef8dd",
   "metadata": {},
   "source": [
    "Az a legnagyobb egész szám, ahányszor az osztó megvan az osztandóban. Más szóval az osztás eredményének egészrésze. Ezt akkor használjuk, hogyha mindenképpen egész eredményre van szükségünk, és a pontosság nem olyan fontos."
   ]
  },
  {
   "cell_type": "code",
   "execution_count": 66,
   "id": "61c74809",
   "metadata": {},
   "outputs": [
    {
     "name": "stdout",
     "output_type": "stream",
     "text": [
      "y ennyiszer van meg teljesen x-ben: 2\n",
      "y ennyiszer van meg teljesen x-ben: 2.0\n",
      "y ennyiszer van meg teljesen x-ben: 0\n"
     ]
    }
   ],
   "source": [
    "x = 6\n",
    "y = 3\n",
    "\n",
    "floored_quotient = x // y\n",
    "print(\"y ennyiszer van meg teljesen x-ben: \" + str(floored_quotient))\n",
    "\n",
    "x = 6.3\n",
    "y = 3\n",
    "\n",
    "floored_quotient = x // y\n",
    "print(\"y ennyiszer van meg teljesen x-ben: \" + str(floored_quotient))\n",
    "\n",
    "x = 2\n",
    "y = 3\n",
    "\n",
    "floored_quotient = x // y\n",
    "print(\"y ennyiszer van meg teljesen x-ben: \" + str(floored_quotient))"
   ]
  },
  {
   "cell_type": "markdown",
   "id": "06108f5e",
   "metadata": {},
   "source": [
    "### Osztás maradéka, modulo (%)"
   ]
  },
  {
   "cell_type": "markdown",
   "id": "749a9cf9",
   "metadata": {},
   "source": [
    "Két szám modulója az osztásuk maradékával egyenlő. Tehát, amennyiben két szám modulója 0, ez azt jelenti, hogy az osztásuk maradéka 0, tehát az első szám osztható a másodikkal. Ezt az operátort legtöbbször ilyen módon, oszthatóság ellenőrzésére használjuk."
   ]
  },
  {
   "cell_type": "code",
   "execution_count": 68,
   "id": "b15f0856",
   "metadata": {
    "scrolled": true
   },
   "outputs": [
    {
     "name": "stdout",
     "output_type": "stream",
     "text": [
      "x y-nal leosztásának maradéka: 2\n",
      "x y-nal leosztásának maradéka: 0.020000000000000018\n",
      "x y-nal leosztásának maradéka: 7\n"
     ]
    }
   ],
   "source": [
    "x = 2\n",
    "y = 3\n",
    "\n",
    "remainder = x % y\n",
    "print(\"x y-nal leosztásának maradéka: \" + str(remainder))\n",
    "\n",
    "x = 2.12\n",
    "y = 1.05\n",
    "\n",
    "remainder = x % y\n",
    "print(\"x y-nal leosztásának maradéka: \" + str(remainder))\n",
    "\n",
    "x = 137\n",
    "y = 13\n",
    "\n",
    "remainder = x % y\n",
    "print(\"x y-nal leosztásának maradéka: \" + str(remainder))"
   ]
  },
  {
   "cell_type": "markdown",
   "id": "402278f1",
   "metadata": {},
   "source": [
    "A második példában a 18 trilliomod pontatlanság a float-ok fentebb említett pontatlanságából ered."
   ]
  },
  {
   "cell_type": "markdown",
   "id": "8d3f691c",
   "metadata": {},
   "source": [
    "### Hatványozás"
   ]
  },
  {
   "cell_type": "code",
   "execution_count": null,
   "id": "965d8d1e",
   "metadata": {},
   "outputs": [],
   "source": []
  }
 ],
 "metadata": {
  "kernelspec": {
   "display_name": "Python 3 (ipykernel)",
   "language": "python",
   "name": "python3"
  },
  "language_info": {
   "codemirror_mode": {
    "name": "ipython",
    "version": 3
   },
   "file_extension": ".py",
   "mimetype": "text/x-python",
   "name": "python",
   "nbconvert_exporter": "python",
   "pygments_lexer": "ipython3",
   "version": "3.9.7"
  }
 },
 "nbformat": 4,
 "nbformat_minor": 5
}
