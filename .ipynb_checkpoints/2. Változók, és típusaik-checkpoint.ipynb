{
 "cells": [
  {
   "cell_type": "markdown",
   "id": "21550f32",
   "metadata": {},
   "source": [
    "# Változók, és típusaik\n",
    "\n",
    "Ha egy értéket később újrahasználnánk, vagy módosítanánk, változóban fogjuk tárolni. A Pythonban létrehozáskor kell\n",
    "ezeknek egy nevet és egy értéket adni. Ez alapján be fogjuk tudni őket azonosítani, iilletve a programfordító (interpreter) pedig meg tudja mondani, milyen a típusuk. A nevet és értéket az = (értékadás) operátorral kötjük össze. Nem összekeverendő az\n",
    "== (összehasonlítás) operátorral.\n",
    "\n",
    "## int\n",
    "\n",
    "Integer, azaz egész szám. Egész számok tárolására képes."
   ]
  },
  {
   "cell_type": "code",
   "execution_count": 1,
   "id": "0c199921",
   "metadata": {
    "scrolled": true
   },
   "outputs": [
    {
     "name": "stdout",
     "output_type": "stream",
     "text": [
      "Ilyen a my_int: 121\n"
     ]
    }
   ],
   "source": [
    "my_int = 121\n",
    "print(\"Ilyen a my_int:\", my_int)"
   ]
  },
  {
   "cell_type": "markdown",
   "id": "b46310b5",
   "metadata": {},
   "source": [
    "## float\n",
    "Floating point, azaz lebegőpontos ábrázolású szám. Tizedestört-számok tárolására képes normálalakban. Fontos megjegyezni, hogy nem feltétlenül képes a megadott értéket tökéletes pontossággal tárolni, ezért a vele történő műveletek nagyon minimális (értsd, jellegzetesen kevesebb, mint néhány billiomod) eltérést tudnak okozni."
   ]
  },
  {
   "cell_type": "code",
   "execution_count": 2,
   "id": "a13111df",
   "metadata": {},
   "outputs": [
    {
     "name": "stdout",
     "output_type": "stream",
     "text": [
      "Ilyen a my_float: 1.618\n"
     ]
    }
   ],
   "source": [
    "my_float = 1.618\n",
    "print(\"Ilyen a my_float:\", my_float)"
   ]
  },
  {
   "cell_type": "markdown",
   "id": "19cb83f5",
   "metadata": {},
   "source": [
    "## str\n",
    "String, azaz szöveget tartalmaz. Hasznos rá bizonyos körülmények között úgy gondolni, mint írásjelek listája. A Pythonban használhatunk jelölésükre egyszeres (') vagy dupla idézőjelet (\"), nincs különbség."
   ]
  },
  {
   "cell_type": "code",
   "execution_count": 3,
   "id": "50de38ab",
   "metadata": {},
   "outputs": [
    {
     "name": "stdout",
     "output_type": "stream",
     "text": [
      "Ilyen a my_str: Hello world!\n"
     ]
    }
   ],
   "source": [
    "my_str = \"Hello world!\"\n",
    "print(\"Ilyen a my_str:\", my_str)"
   ]
  },
  {
   "cell_type": "markdown",
   "id": "e6d94856",
   "metadata": {},
   "source": [
    "## bool\n",
    "Boolean, azaz logikai változó. Igaz (True), vagy hamis (False) értéket vehet fel."
   ]
  },
  {
   "cell_type": "code",
   "execution_count": 4,
   "id": "d8058e3d",
   "metadata": {},
   "outputs": [
    {
     "name": "stdout",
     "output_type": "stream",
     "text": [
      "Ilyen a my_bool: False\n"
     ]
    }
   ],
   "source": [
    "my_bool = False\n",
    "print(\"Ilyen a my_bool:\", my_bool)"
   ]
  },
  {
   "cell_type": "markdown",
   "id": "8a55070c",
   "metadata": {},
   "source": [
    "## list\n",
    "Lista, azaz elemek sorozata. Az elemeket elérhetjük az értékük, vagy sorszámuk (index) alapján. A sorszámozás (indexelés) 0-tól indul. "
   ]
  },
  {
   "cell_type": "code",
   "execution_count": 5,
   "id": "0dbec7ce",
   "metadata": {},
   "outputs": [
    {
     "name": "stdout",
     "output_type": "stream",
     "text": [
      "Ilyen a list: [121, 1.618, 'Hello world!', False]\n"
     ]
    }
   ],
   "source": [
    "my_list = [my_int, my_float, my_str, my_bool]\n",
    "print(\"Ilyen a list:\", my_list)"
   ]
  },
  {
   "cell_type": "markdown",
   "id": "b8f1ff92",
   "metadata": {},
   "source": [
    "Tehát ezen a listán a my_int indexe 0, a my_float-é 1, a my_string-é 2, és a my_bool-e 3. Bármilyen elemet tehetünk bármilyen listába, nincs meghatározva, hogy adott listába csak float, vagy int, vagy egyéb objektum mehet. Viszont, hogyha végigmegyünk az összes elemén, és valamit csinálni szeretnénk velük, akkor fontos észben tartani, milyen fajta elemekről van szó. Pl. egy bool-t nem fog engedni eosztani 2-vel."
   ]
  },
  {
   "cell_type": "markdown",
   "id": "e2925d8d",
   "metadata": {},
   "source": [
    " ## type() – Típus lekérése\n",
    "\n",
    "Le lehet kérdezni egy adott változó típusát a type() függvénnyel, amely visszaadja, milyen úgynevezett osztályhoz tartozik az argumentumként megadott objektum."
   ]
  },
  {
   "cell_type": "code",
   "execution_count": 6,
   "id": "99b2a8f1",
   "metadata": {},
   "outputs": [
    {
     "name": "stdout",
     "output_type": "stream",
     "text": [
      "A my_int változó típusa: <class 'int'>\n",
      "A my_float változó típusa: <class 'float'>\n",
      "A my_str változó típusa: <class 'str'>\n",
      "A my_bool változó típusa: <class 'bool'>\n",
      "A my_list változó típusa: <class 'list'>\n"
     ]
    }
   ],
   "source": [
    "print(\"A my_int változó típusa:\", type(my_int))\n",
    "print(\"A my_float változó típusa:\", type(my_float))\n",
    "print(\"A my_str változó típusa:\", type(my_str))\n",
    "print(\"A my_bool változó típusa:\", type(my_bool))\n",
    "print(\"A my_list változó típusa:\", type(my_list))"
   ]
  },
  {
   "cell_type": "markdown",
   "id": "8b300249",
   "metadata": {},
   "source": [
    "## Konvertálás\n",
    "### int → float\n",
    "\n",
    "Int típusú változó mindig átalakítható floattá, elvégre minden egész szám kifejezhető tizedes alakban."
   ]
  },
  {
   "cell_type": "code",
   "execution_count": 7,
   "id": "55b4ba15",
   "metadata": {},
   "outputs": [
    {
     "name": "stdout",
     "output_type": "stream",
     "text": [
      "my_int floattá alakítva: 121.0\n"
     ]
    }
   ],
   "source": [
    "my_int = 121\n",
    "int_to_float = float(my_int)\n",
    "print(\"my_int floattá alakítva:\", int_to_float)"
   ]
  },
  {
   "cell_type": "markdown",
   "id": "22af5dab",
   "metadata": {},
   "source": [
    "### float → int\n",
    "Float változók is mindig átalakíthatóak intre. Ilyenkor a szám törtrésze törlésre kerül, vagyis lekerekít a legközelebbi egészhez, ami teljesen megvan benne. Ez azt jelenti, hogy ez az átalakítás nem követi a kerekítés hagyományos szabályait!"
   ]
  },
  {
   "cell_type": "code",
   "execution_count": 8,
   "id": "00cb9c8f",
   "metadata": {},
   "outputs": [
    {
     "name": "stdout",
     "output_type": "stream",
     "text": [
      "my_float intté alakítva: 1\n"
     ]
    }
   ],
   "source": [
    "my_float = 1.618\n",
    "float_to_int = int(my_float)\n",
    "print(\"my_float intté alakítva:\", float_to_int)"
   ]
  },
  {
   "cell_type": "markdown",
   "id": "72d3229b",
   "metadata": {},
   "source": [
    "### int → str, float → str\n",
    "Ezek az átalakítások is minden esetben lehetségesek. Számokat tudunk ezen függvények segítségével szövegként kezelni, így pl. számjegyekre bontani. A print() ugyanúgy nyomtatja ki a stringet és az intet konzolra, de ezek használata után már nem fogjuk tudni a tárolt értékeken a számtani operátorokat matematikára alkalmazni."
   ]
  },
  {
   "cell_type": "code",
   "execution_count": 9,
   "id": "19294ebe",
   "metadata": {},
   "outputs": [
    {
     "name": "stdout",
     "output_type": "stream",
     "text": [
      "my_int stringgé alakítva: 121\n",
      "my_float stringgé alakítva: 1.618\n"
     ]
    }
   ],
   "source": [
    "my_int = 121\n",
    "int_to_str = str(my_int)\n",
    "print(\"my_int stringgé alakítva:\", int_to_str)\n",
    "\n",
    "my_float = 1.618\n",
    "float_to_str = str(my_float)\n",
    "print(\"my_float stringgé alakítva:\", float_to_str)"
   ]
  },
  {
   "cell_type": "markdown",
   "id": "1fedaa1d",
   "metadata": {},
   "source": [
    "### str → int, str → float\n",
    "Ezek a függvények képesek hibát okozni. Hogyha a stringként tárolt változó csak és kizárólag 0 és 9 közötti számokból áll, az átalakítás gond nélkül működni fog. Gyakran használjuk őket input() segítségével felhasználótól bekért számok használhatóvá tételére. Lentebb bemutatott függvényekkel fogjuk tudni a szövegek tartalmát ellenőrizni."
   ]
  },
  {
   "cell_type": "code",
   "execution_count": 10,
   "id": "30f8433c",
   "metadata": {},
   "outputs": [
    {
     "name": "stdout",
     "output_type": "stream",
     "text": [
      "my_str intté átalakítva: 123456789\n",
      "my_str floattá átalakítva: 123456789.0\n"
     ]
    }
   ],
   "source": [
    "my_str = \"123456789\"\n",
    "str_to_int = int(my_str)\n",
    "print(\"my_str intté átalakítva:\", str_to_int)\n",
    "\n",
    "my_str = \"123456789\"\n",
    "str_to_float = float(my_str)\n",
    "print(\"my_str floattá átalakítva:\", str_to_float)"
   ]
  },
  {
   "cell_type": "markdown",
   "id": "39d55ac6",
   "metadata": {},
   "source": [
    "Érvénytelen argumentum esetén hibát kapunk."
   ]
  },
  {
   "cell_type": "code",
   "execution_count": 11,
   "id": "ac406a1b",
   "metadata": {
    "scrolled": false,
    "tags": [
     "raises-exception"
    ]
   },
   "outputs": [
    {
     "ename": "ValueError",
     "evalue": "invalid literal for int() with base 10: 'abcdef'",
     "output_type": "error",
     "traceback": [
      "\u001b[1;31m---------------------------------------------------------------------------\u001b[0m",
      "\u001b[1;31mValueError\u001b[0m                                Traceback (most recent call last)",
      "Input \u001b[1;32mIn [11]\u001b[0m, in \u001b[0;36m<cell line: 2>\u001b[1;34m()\u001b[0m\n\u001b[0;32m      1\u001b[0m my_str \u001b[38;5;241m=\u001b[39m \u001b[38;5;124m\"\u001b[39m\u001b[38;5;124mabcdef\u001b[39m\u001b[38;5;124m\"\u001b[39m\n\u001b[1;32m----> 2\u001b[0m str_to_int \u001b[38;5;241m=\u001b[39m \u001b[38;5;28;43mint\u001b[39;49m\u001b[43m(\u001b[49m\u001b[43mmy_str\u001b[49m\u001b[43m)\u001b[49m\n\u001b[0;32m      3\u001b[0m \u001b[38;5;28mprint\u001b[39m(\u001b[38;5;124m\"\u001b[39m\u001b[38;5;124mmy_str intté átalakítva:\u001b[39m\u001b[38;5;124m\"\u001b[39m, str_to_int)\n",
      "\u001b[1;31mValueError\u001b[0m: invalid literal for int() with base 10: 'abcdef'"
     ]
    }
   ],
   "source": [
    "my_str = \"abcdef\"\n",
    "str_to_int = int(my_str)\n",
    "print(\"my_str intté átalakítva:\", str_to_int)"
   ]
  },
  {
   "cell_type": "code",
   "execution_count": 12,
   "id": "f3ef9edf",
   "metadata": {
    "tags": [
     "raises-exception"
    ]
   },
   "outputs": [
    {
     "ename": "ValueError",
     "evalue": "could not convert string to float: 'イースター・エッグ'",
     "output_type": "error",
     "traceback": [
      "\u001b[1;31m---------------------------------------------------------------------------\u001b[0m",
      "\u001b[1;31mValueError\u001b[0m                                Traceback (most recent call last)",
      "Input \u001b[1;32mIn [12]\u001b[0m, in \u001b[0;36m<cell line: 2>\u001b[1;34m()\u001b[0m\n\u001b[0;32m      1\u001b[0m my_str \u001b[38;5;241m=\u001b[39m \u001b[38;5;124m\"\u001b[39m\u001b[38;5;124mイースター・エッグ\u001b[39m\u001b[38;5;124m\"\u001b[39m\n\u001b[1;32m----> 2\u001b[0m str_to_float \u001b[38;5;241m=\u001b[39m \u001b[38;5;28;43mfloat\u001b[39;49m\u001b[43m(\u001b[49m\u001b[43mmy_str\u001b[49m\u001b[43m)\u001b[49m\n\u001b[0;32m      3\u001b[0m \u001b[38;5;28mprint\u001b[39m(\u001b[38;5;124m\"\u001b[39m\u001b[38;5;124mmy_str floattá átalakítva:\u001b[39m\u001b[38;5;124m\"\u001b[39m, str_to_float)\n",
      "\u001b[1;31mValueError\u001b[0m: could not convert string to float: 'イースター・エッグ'"
     ]
    }
   ],
   "source": [
    "my_str = \"イースター・エッグ\"\n",
    "str_to_float = float(my_str)\n",
    "print(\"my_str floattá átalakítva:\", str_to_float)"
   ]
  }
 ],
 "metadata": {
  "kernelspec": {
   "display_name": "Python 3 (ipykernel)",
   "language": "python",
   "name": "python3"
  },
  "language_info": {
   "codemirror_mode": {
    "name": "ipython",
    "version": 3
   },
   "file_extension": ".py",
   "mimetype": "text/x-python",
   "name": "python",
   "nbconvert_exporter": "python",
   "pygments_lexer": "ipython3",
   "version": "3.10.6"
  }
 },
 "nbformat": 4,
 "nbformat_minor": 5
}
