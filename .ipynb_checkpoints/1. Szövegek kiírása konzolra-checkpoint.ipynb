{
 "cells": [
  {
   "cell_type": "markdown",
   "id": "d29f651a",
   "metadata": {},
   "source": [
    "# Szövegek kiírása konzolra"
   ]
  },
  {
   "cell_type": "markdown",
   "id": "054ec1fc",
   "metadata": {},
   "source": [
    "## A print() függvény"
   ]
  },
  {
   "cell_type": "markdown",
   "id": "d9365d2e",
   "metadata": {},
   "source": [
    "A print() függvény kiírja az argumentumként (azaz a zárójelben valós értékként) megadott szöveget, vagy szöveggé konvertált más típusú változót egy új sorba. A szövegek megadhatók egyes '', vagy dupla \"\" idézőjelek között, a Python nem tesz különbséget."
   ]
  },
  {
   "cell_type": "code",
   "execution_count": 1,
   "id": "a7f2aab8",
   "metadata": {},
   "outputs": [
    {
     "name": "stdout",
     "output_type": "stream",
     "text": [
      "Hello World!\n",
      "Hello World!\n"
     ]
    }
   ],
   "source": [
    "print('Hello World!')\n",
    "print(\"Hello World!\")"
   ]
  },
  {
   "cell_type": "markdown",
   "id": "9735feb7",
   "metadata": {},
   "source": [
    "Szöveges értékek összefűzhetőek a + számtani operátorral."
   ]
  },
  {
   "cell_type": "code",
   "execution_count": 2,
   "id": "0dcdda3c",
   "metadata": {},
   "outputs": [
    {
     "name": "stdout",
     "output_type": "stream",
     "text": [
      "Szövegek összefűzve + jellel.\n"
     ]
    }
   ],
   "source": [
    "print(\"Szövegek \" + \"összefűzve \" + \"+ \" + \"jellel.\")"
   ]
  },
  {
   "cell_type": "markdown",
   "id": "3b6ff438",
   "metadata": {},
   "source": [
    "Idézőjeleket konzolra úgynevezett feloldójel (escape character) segítségével lehet kiírni. Az idézőjel elé be kell egy fordított perjelet írni az AltGr + Q billentyűparanccsal."
   ]
  },
  {
   "cell_type": "code",
   "execution_count": 3,
   "id": "fdf7c787",
   "metadata": {},
   "outputs": [
    {
     "name": "stdout",
     "output_type": "stream",
     "text": [
      "Idézőjelek: \"Kétszeres\", 'Egyszeres'\n"
     ]
    }
   ],
   "source": [
    "print(\"Idézőjelek: \\\"Kétszeres\\\", \\'Egyszeres\\'\")"
   ]
  },
  {
   "cell_type": "markdown",
   "id": "7a00f943",
   "metadata": {},
   "source": [
    "Argumentum nélkül (azaz üres zárójellel) meghívott print parancsok egy üres sort írnak ki konzolra."
   ]
  },
  {
   "cell_type": "code",
   "execution_count": 4,
   "id": "65690ded",
   "metadata": {},
   "outputs": [
    {
     "name": "stdout",
     "output_type": "stream",
     "text": [
      "\n"
     ]
    }
   ],
   "source": [
    "print()"
   ]
  },
  {
   "cell_type": "markdown",
   "id": "3335c4d1",
   "metadata": {},
   "source": [
    "Több sorban is ki lehet írni szövegeket a print() függvénnyel. Alapból a print() függvényben argumentumként megadott szövegek sortörése elvész konzolra kiíráskor."
   ]
  },
  {
   "cell_type": "code",
   "execution_count": 5,
   "id": "19183a82",
   "metadata": {},
   "outputs": [
    {
     "name": "stdout",
     "output_type": "stream",
     "text": [
      "1.sor2.sor\n"
     ]
    }
   ],
   "source": [
    "print(\"1.sor\"\n",
    "      \"2.sor\")"
   ]
  },
  {
   "cell_type": "markdown",
   "id": "11c6e9f0",
   "metadata": {},
   "source": [
    "Sortöréses kiírásra több módszer is létezik. A legegyszerűbb az, ha több külön print() parancsot használunk, amelyek mindegyike külön sorban írja ki a maga argumentumát."
   ]
  },
  {
   "cell_type": "code",
   "execution_count": 6,
   "id": "fd789a0e",
   "metadata": {},
   "outputs": [
    {
     "name": "stdout",
     "output_type": "stream",
     "text": [
      "Sortörés, első módszer:\n",
      "1.sor\n",
      "2.sor\n"
     ]
    }
   ],
   "source": [
    "print(\"Sortörés, első módszer:\")\n",
    "print(\"1.sor\")\n",
    "print(\"2.sor\")"
   ]
  },
  {
   "cell_type": "markdown",
   "id": "a1fad411",
   "metadata": {},
   "source": [
    "Ez a módszer viszont sok helyet foglal, és nem éppen elegáns, hosszabb szövegeknél átláthatatlanná teszi a kódot. Ha egy print() függvény argumentumát hármas idézőjelekkel adjuk meg, akkor megmaradnak az ott megadott sortörések."
   ]
  },
  {
   "cell_type": "code",
   "execution_count": 7,
   "id": "d061fe6c",
   "metadata": {},
   "outputs": [
    {
     "name": "stdout",
     "output_type": "stream",
     "text": [
      "Sortörés, második módszer:\n",
      "1.sor\n",
      "2.sor\n"
     ]
    }
   ],
   "source": [
    "print(\"\"\"Sortörés, második módszer:\n",
    "1.sor\n",
    "2.sor\"\"\")"
   ]
  },
  {
   "cell_type": "markdown",
   "id": "c0653b77",
   "metadata": {},
   "source": [
    "A harmadik, és a legtöbb programozási nyelven bevett módszer pedig a \\n (newline, azaz új sor) karakter beillesztése oda, ahol sort akarunk törni."
   ]
  },
  {
   "cell_type": "code",
   "execution_count": 8,
   "id": "674a1530",
   "metadata": {},
   "outputs": [
    {
     "name": "stdout",
     "output_type": "stream",
     "text": [
      "Sortörés, harmadik módszer:\n",
      "1.sor\n",
      "2.sor\n"
     ]
    }
   ],
   "source": [
    "print(\"Sortörés, harmadik módszer:\\n1.sor\\n2.sor\")"
   ]
  },
  {
   "cell_type": "markdown",
   "id": "f20c6017",
   "metadata": {},
   "source": [
    "A \\t (tabulátor) karakterrel behúzhatjuk jobbra a kinyomtatott szövegünket."
   ]
  },
  {
   "cell_type": "code",
   "execution_count": 9,
   "id": "fa59754f",
   "metadata": {},
   "outputs": [
    {
     "name": "stdout",
     "output_type": "stream",
     "text": [
      "\tBehúzott szöveg\n"
     ]
    }
   ],
   "source": [
    "print(\"\\tBehúzott szöveg\")"
   ]
  }
 ],
 "metadata": {
  "kernelspec": {
   "display_name": "Python 3 (ipykernel)",
   "language": "python",
   "name": "python3"
  },
  "language_info": {
   "codemirror_mode": {
    "name": "ipython",
    "version": 3
   },
   "file_extension": ".py",
   "mimetype": "text/x-python",
   "name": "python",
   "nbconvert_exporter": "python",
   "pygments_lexer": "ipython3",
   "version": "3.10.6"
  }
 },
 "nbformat": 4,
 "nbformat_minor": 5
}
