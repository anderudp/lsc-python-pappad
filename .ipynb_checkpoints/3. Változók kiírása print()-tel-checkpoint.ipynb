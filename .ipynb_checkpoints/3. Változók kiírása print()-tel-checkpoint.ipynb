{
 "cells": [
  {
   "cell_type": "markdown",
   "id": "71c1643f",
   "metadata": {},
   "source": [
    "# Változók kiírása print()-tel\n",
    "\n",
    "A print() függvény fogad megnevezett változókat, mint argumentum."
   ]
  },
  {
   "cell_type": "code",
   "execution_count": 1,
   "id": "b5ed55c6",
   "metadata": {},
   "outputs": [
    {
     "name": "stdout",
     "output_type": "stream",
     "text": [
      "Változók egyszerű kinyomtatása:\n",
      "Hello world!\n",
      "121\n",
      "1.618\n"
     ]
    }
   ],
   "source": [
    "print(\"Változók egyszerű kinyomtatása:\")\n",
    "my_str = \"Hello world!\"\n",
    "print(my_str)\n",
    "my_int = 121\n",
    "print(my_int)\n",
    "my_float = 1.618\n",
    "print(my_float)"
   ]
  },
  {
   "cell_type": "markdown",
   "id": "d73e14ca",
   "metadata": {},
   "source": [
    "## + jeles összefűzés\n",
    "Szöveggel több módon is össze tudjuk fűzni a változóinkat. A legalapvetőbb a + jeles összekapcsolás. Ezzel a módszerrel azonban csak string objektumokat tudunk alapból összefűzni, mert számok esetén nem lenne egyértelmű, hogy összeadást, vagy összefűzést akarunk-e végezni, ezért hibaüzenetet kapunk."
   ]
  },
  {
   "cell_type": "code",
   "execution_count": 2,
   "id": "168f85c6",
   "metadata": {},
   "outputs": [
    {
     "name": "stdout",
     "output_type": "stream",
     "text": [
      "Összefűzés + jellel:\n",
      "A my_str értéke: Hello world!\n"
     ]
    }
   ],
   "source": [
    "print(\"Összefűzés + jellel:\")\n",
    "print(\"A my_str értéke: \" + my_str)"
   ]
  },
  {
   "cell_type": "markdown",
   "id": "f4ac3bbd",
   "metadata": {},
   "source": [
    "Konvertáló függvény nélkül:"
   ]
  },
  {
   "cell_type": "code",
   "execution_count": 3,
   "id": "8b53cf98",
   "metadata": {
    "scrolled": true,
    "tags": [
     "raises-exception"
    ]
   },
   "outputs": [
    {
     "ename": "TypeError",
     "evalue": "can only concatenate str (not \"int\") to str",
     "output_type": "error",
     "traceback": [
      "\u001b[1;31m---------------------------------------------------------------------------\u001b[0m",
      "\u001b[1;31mTypeError\u001b[0m                                 Traceback (most recent call last)",
      "Input \u001b[1;32mIn [3]\u001b[0m, in \u001b[0;36m<cell line: 1>\u001b[1;34m()\u001b[0m\n\u001b[1;32m----> 1\u001b[0m \u001b[38;5;28mprint\u001b[39m(\u001b[38;5;124;43m\"\u001b[39;49m\u001b[38;5;124;43mA my_int értéke: \u001b[39;49m\u001b[38;5;124;43m\"\u001b[39;49m\u001b[43m \u001b[49m\u001b[38;5;241;43m+\u001b[39;49m\u001b[43m \u001b[49m\u001b[43mmy_int\u001b[49m)\n",
      "\u001b[1;31mTypeError\u001b[0m: can only concatenate str (not \"int\") to str"
     ]
    }
   ],
   "source": [
    "print(\"A my_int értéke: \" + my_int)"
   ]
  },
  {
   "cell_type": "code",
   "execution_count": 4,
   "id": "b64b90e5",
   "metadata": {
    "scrolled": true,
    "tags": [
     "raises-exception"
    ]
   },
   "outputs": [
    {
     "ename": "TypeError",
     "evalue": "can only concatenate str (not \"float\") to str",
     "output_type": "error",
     "traceback": [
      "\u001b[1;31m---------------------------------------------------------------------------\u001b[0m",
      "\u001b[1;31mTypeError\u001b[0m                                 Traceback (most recent call last)",
      "Input \u001b[1;32mIn [4]\u001b[0m, in \u001b[0;36m<cell line: 1>\u001b[1;34m()\u001b[0m\n\u001b[1;32m----> 1\u001b[0m \u001b[38;5;28mprint\u001b[39m(\u001b[38;5;124;43m\"\u001b[39;49m\u001b[38;5;124;43mA my_float értéke: \u001b[39;49m\u001b[38;5;124;43m\"\u001b[39;49m\u001b[43m \u001b[49m\u001b[38;5;241;43m+\u001b[39;49m\u001b[43m \u001b[49m\u001b[43mmy_float\u001b[49m)\n",
      "\u001b[1;31mTypeError\u001b[0m: can only concatenate str (not \"float\") to str"
     ]
    }
   ],
   "source": [
    "print(\"A my_float értéke: \" + my_float)"
   ]
  },
  {
   "cell_type": "markdown",
   "id": "1fa861f5",
   "metadata": {},
   "source": [
    "Konvertáló függvénnyel:"
   ]
  },
  {
   "cell_type": "code",
   "execution_count": 5,
   "id": "b89a1cf4",
   "metadata": {
    "scrolled": true
   },
   "outputs": [
    {
     "name": "stdout",
     "output_type": "stream",
     "text": [
      "A my_int értéke: 121\n",
      "A my_float értéke: 1.618\n",
      "A my_str értéke Hello world!, a my_int értéke 121, a my_float értéke 1.618.\n"
     ]
    }
   ],
   "source": [
    "print(\"A my_int értéke: \" + str(my_int))\n",
    "print(\"A my_float értéke: \" + str(my_float))\n",
    "print(\"A my_str értéke \" + my_str + \", a my_int értéke \" + str(my_int) + \", a my_float értéke \" + str(my_float) + \".\")"
   ]
  },
  {
   "cell_type": "markdown",
   "id": "c24049b9",
   "metadata": {},
   "source": [
    "## % jeles behelyettesítés\n",
    "Egy másik módszer a százalékjeles behelyettesítés. Az idézőjelen belüli %s helyére bekerül a külső % jel után meghívott változó értéke. Léteznek egyéb behelyettesítési jelzők (%d, %f, %x, stb.) de ezek nem fontosak jelenlegi céljainkra."
   ]
  },
  {
   "cell_type": "code",
   "execution_count": 6,
   "id": "255f9ca1",
   "metadata": {},
   "outputs": [
    {
     "name": "stdout",
     "output_type": "stream",
     "text": [
      "A my_str értéke: Hello world!\n"
     ]
    }
   ],
   "source": [
    "print(\"A my_str értéke: %s\" % my_str)"
   ]
  },
  {
   "cell_type": "markdown",
   "id": "28d4f4ad",
   "metadata": {},
   "source": [
    "Ezzel a metódussal nem szükséges konvertáló függvényeket használni, automatikusan megtörténik az átalakítás."
   ]
  },
  {
   "cell_type": "code",
   "execution_count": 7,
   "id": "c53c4171",
   "metadata": {},
   "outputs": [
    {
     "name": "stdout",
     "output_type": "stream",
     "text": [
      "A my_int értéke: 121\n",
      "A my_float értéke: 1.618\n"
     ]
    }
   ],
   "source": [
    "print(\"A my_int értéke: %s\" % my_int)\n",
    "print(\"A my_float értéke: %s\" % my_float)"
   ]
  },
  {
   "cell_type": "markdown",
   "id": "660a799e",
   "metadata": {},
   "source": [
    "Több változó behelyettesítésekor a külső % jel után a változókat zárójelbe kell tenni. A behelyettesítés abban a sorrendben történik, ahogy a zárójelben megjelennek. Az idézőjeleken belüli %s-ek és behelyettesítendő változók számának egyeznie kell. Ha több, vagy kevesebb, hibát dob a program."
   ]
  },
  {
   "cell_type": "code",
   "execution_count": 8,
   "id": "cf30a44e",
   "metadata": {},
   "outputs": [
    {
     "name": "stdout",
     "output_type": "stream",
     "text": [
      "A my_str értéke Hello world!, a my_int értéke 121, a my_float értéke 1.618.\n"
     ]
    }
   ],
   "source": [
    "print(\"A my_str értéke %s, a my_int értéke %s, a my_float értéke %s.\" % (my_str, my_int, my_float))"
   ]
  },
  {
   "cell_type": "markdown",
   "id": "497844af",
   "metadata": {},
   "source": [
    "Eltérő számú behelyettesítési jelző és változóval:"
   ]
  },
  {
   "cell_type": "code",
   "execution_count": 9,
   "id": "96a35f6f",
   "metadata": {
    "tags": [
     "raises-exception"
    ]
   },
   "outputs": [
    {
     "ename": "TypeError",
     "evalue": "not all arguments converted during string formatting",
     "output_type": "error",
     "traceback": [
      "\u001b[1;31m---------------------------------------------------------------------------\u001b[0m",
      "\u001b[1;31mTypeError\u001b[0m                                 Traceback (most recent call last)",
      "Input \u001b[1;32mIn [9]\u001b[0m, in \u001b[0;36m<cell line: 1>\u001b[1;34m()\u001b[0m\n\u001b[1;32m----> 1\u001b[0m \u001b[38;5;28mprint\u001b[39m(\u001b[38;5;124;43m\"\u001b[39;49m\u001b[38;5;124;43mA my_str értéke \u001b[39;49m\u001b[38;5;132;43;01m%s\u001b[39;49;00m\u001b[38;5;124;43m, a my_int értéke \u001b[39;49m\u001b[38;5;132;43;01m%s\u001b[39;49;00m\u001b[38;5;124;43m.\u001b[39;49m\u001b[38;5;124;43m\"\u001b[39;49m\u001b[43m \u001b[49m\u001b[38;5;241;43m%\u001b[39;49m\u001b[43m \u001b[49m\u001b[43m(\u001b[49m\u001b[43mmy_str\u001b[49m\u001b[43m,\u001b[49m\u001b[43m \u001b[49m\u001b[43mmy_int\u001b[49m\u001b[43m,\u001b[49m\u001b[43m \u001b[49m\u001b[43mmy_float\u001b[49m\u001b[43m)\u001b[49m)\n",
      "\u001b[1;31mTypeError\u001b[0m: not all arguments converted during string formatting"
     ]
    }
   ],
   "source": [
    "print(\"A my_str értéke %s, a my_int értéke %s.\" % (my_str, my_int, my_float))"
   ]
  },
  {
   "cell_type": "code",
   "execution_count": 10,
   "id": "9a212aff",
   "metadata": {
    "tags": [
     "raises-exception"
    ]
   },
   "outputs": [
    {
     "ename": "TypeError",
     "evalue": "not enough arguments for format string",
     "output_type": "error",
     "traceback": [
      "\u001b[1;31m---------------------------------------------------------------------------\u001b[0m",
      "\u001b[1;31mTypeError\u001b[0m                                 Traceback (most recent call last)",
      "Input \u001b[1;32mIn [10]\u001b[0m, in \u001b[0;36m<cell line: 1>\u001b[1;34m()\u001b[0m\n\u001b[1;32m----> 1\u001b[0m \u001b[38;5;28mprint\u001b[39m(\u001b[38;5;124;43m\"\u001b[39;49m\u001b[38;5;124;43mA my_str értéke \u001b[39;49m\u001b[38;5;132;43;01m%s\u001b[39;49;00m\u001b[38;5;124;43m, a my_int értéke \u001b[39;49m\u001b[38;5;132;43;01m%s\u001b[39;49;00m\u001b[38;5;124;43m, a my_float értéke \u001b[39;49m\u001b[38;5;132;43;01m%s\u001b[39;49;00m\u001b[38;5;124;43m.\u001b[39;49m\u001b[38;5;124;43m\"\u001b[39;49m\u001b[43m \u001b[49m\u001b[38;5;241;43m%\u001b[39;49m\u001b[43m \u001b[49m\u001b[43m(\u001b[49m\u001b[43mmy_str\u001b[49m\u001b[43m,\u001b[49m\u001b[43m \u001b[49m\u001b[43mmy_int\u001b[49m\u001b[43m)\u001b[49m)\n",
      "\u001b[1;31mTypeError\u001b[0m: not enough arguments for format string"
     ]
    }
   ],
   "source": [
    "print(\"A my_str értéke %s, a my_int értéke %s, a my_float értéke %s.\" % (my_str, my_int))"
   ]
  },
  {
   "cell_type": "markdown",
   "id": "ff3ed29d",
   "metadata": {},
   "source": [
    "## Vesszős módszer\n",
    "A print függvény képes tetszőleges számú argumentumot fogadni, melyeket vesszővel választjuk el meghíváskor. Ilyenkor az argumentumként megadott szövegeket és változókat alapvetően szóközök beszúrásával fűzi össze. Ez a harmadik módszerünk alapja."
   ]
  },
  {
   "cell_type": "code",
   "execution_count": 11,
   "id": "01e8ebe4",
   "metadata": {},
   "outputs": [
    {
     "name": "stdout",
     "output_type": "stream",
     "text": [
      "A my_str értéke: Hello world!\n"
     ]
    }
   ],
   "source": [
    "print(\"A my_str értéke:\", my_str)"
   ]
  },
  {
   "cell_type": "markdown",
   "id": "158d72f2",
   "metadata": {},
   "source": [
    "Megfigyelendő, hogy az argumentumként megadott szövegben a : után automatikusan be lett illesztve egy szóköz. Ezt nevezik az elválasztási paraméternek. Hasznos még tudni, hogy ezzel a módszerrel sincs szükségünk konvertáló függvényekre."
   ]
  },
  {
   "cell_type": "code",
   "execution_count": 12,
   "id": "bcb3bfa8",
   "metadata": {},
   "outputs": [
    {
     "name": "stdout",
     "output_type": "stream",
     "text": [
      "A my_int értéke: 121\n",
      "A my_float értéke: 1.618\n",
      "A my_str értéke Hello world! , a my_int értéke 121 , a my_float értéke 1.618 .\n"
     ]
    }
   ],
   "source": [
    "print(\"A my_int értéke:\", my_int)\n",
    "print(\"A my_float értéke:\", my_float)\n",
    "print(\"A my_str értéke\", my_str, \", a my_int értéke\", my_int, \", a my_float értéke\", my_float, \".\")"
   ]
  },
  {
   "cell_type": "markdown",
   "id": "3ca354ed",
   "metadata": {},
   "source": [
    "Az utolsó példában láthatjuk a problémát az automatikus szóközbeszúrással. Vesszők, illetve pont után bevett gyakorlat szóközt tenni, azonban eléjük nem az. Ezt a problémát kétféleképpen orvosolhatjuk.\n",
    "Az első módszer a \\b (backspace, azaz visszatörlés) karakter beillesztése oda, ahová tudjuk, hogy egy fölösleges szóközt be fog a program illeszteni."
   ]
  },
  {
   "cell_type": "code",
   "execution_count": 13,
   "id": "a9c0379a",
   "metadata": {},
   "outputs": [
    {
     "name": "stdout",
     "output_type": "stream",
     "text": [
      "A my_str értéke Hello world! \b, a my_int értéke 121 \b, a my_float értéke 1.618 \b.\n"
     ]
    }
   ],
   "source": [
    "print(\"A my_str értéke\", my_str, \"\\b, a my_int értéke\", my_int, \"\\b, a my_float értéke\", my_float, \"\\b.\")"
   ]
  },
  {
   "cell_type": "markdown",
   "id": "d9ab5060",
   "metadata": {},
   "source": [
    "## end, sep paraméterek\n",
    "Az utóbbi azonban nem éppen elegáns megoldás, elvégre két fölösleges lépést is elvégeztetünk a géppel a szóköz beszúrásával, majd azonnali törlésével. Éppen ezért gyakorlatiasabb felülírni az elválasztási paramétert, ami eddig a szóköz volt. Ezt úgy tudjuk megtenni, hogy a kinyomtatandó argumentumok után a sep kulcsszót beírjuk a print() függvény zárójelei közé, majd az = operátorral megadunk neki egy értéket. Ez az érték bármilyen tetszőleges szöveg lehet."
   ]
  },
  {
   "cell_type": "code",
   "execution_count": 14,
   "id": "4fa36dfd",
   "metadata": {},
   "outputs": [
    {
     "name": "stdout",
     "output_type": "stream",
     "text": [
      "A my_str értékeHello world!, a my_int értéke121, a my_float értéke1.618.\n"
     ]
    }
   ],
   "source": [
    "print(\"A my_str értéke\", my_str, \", a my_int értéke\", my_int, \", a my_float értéke\", my_float, \".\", sep=\"\")"
   ]
  },
  {
   "cell_type": "markdown",
   "id": "df10fd09",
   "metadata": {},
   "source": [
    "Ebben a példában üres szöveggé változtattuk az elválasztási paramétert, így az argumentumként megadott szövegek és változók értékei összemosódtak. Ahhoz, hogy a szöveget a kívánt formátumúra alakítsuk, manuálisan kell megadnunk, hová essenek, hasonlóan a + operátoros összefűzéshez. Ennél a módszernél azonban továbbra sem kell konvertáló függvényeket használnunk, így továbbra is előnyösebb."
   ]
  },
  {
   "cell_type": "code",
   "execution_count": 15,
   "id": "937c91e6",
   "metadata": {},
   "outputs": [
    {
     "name": "stdout",
     "output_type": "stream",
     "text": [
      "A my_str értéke Hello world!, a my_int értéke 121, a my_float értéke 1.618.\n"
     ]
    }
   ],
   "source": [
    "print(\"A my_str értéke \", my_str, \", a my_int értéke \", my_int, \", a my_float értéke \", my_float, \".\", sep=\"\")"
   ]
  },
  {
   "cell_type": "markdown",
   "id": "d0b4b24e",
   "metadata": {},
   "source": [
    "További példák a sep paraméterre (az üres print()-ek csak az eredmény átláthatóságának a kedvéért lettek betéve):"
   ]
  },
  {
   "cell_type": "code",
   "execution_count": 16,
   "id": "379ca695",
   "metadata": {},
   "outputs": [
    {
     "name": "stdout",
     "output_type": "stream",
     "text": [
      "A my_str értéke x Hello world! x , a my_int értéke x 121 x , a my_float értéke x 1.618 x .\n",
      "\n",
      "A my_str értéke😂Hello world!😂, a my_int értéke😂121😂, a my_float értéke😂1.618😂.\n",
      "\n",
      "A my_str értéke\tHello world!\t, a my_int értéke\t121\t, a my_float értéke\t1.618\t.\n",
      "\n",
      "A my_str értéke\n",
      "Hello world!\n",
      ", a my_int értéke\n",
      "121\n",
      ", a my_float értéke\n",
      "1.618\n",
      ".\n"
     ]
    }
   ],
   "source": [
    "print(\"A my_str értéke\", my_str, \", a my_int értéke\", my_int, \", a my_float értéke\", my_float, \".\", sep=\" x \")\n",
    "print()\n",
    "print(\"A my_str értéke\", my_str, \", a my_int értéke\", my_int, \", a my_float értéke\", my_float, \".\", sep=\"😂\")\n",
    "print()\n",
    "print(\"A my_str értéke\", my_str, \", a my_int értéke\", my_int, \", a my_float értéke\", my_float, \".\", sep=\"\\t\")\n",
    "print()\n",
    "print(\"A my_str értéke\", my_str, \", a my_int értéke\", my_int, \", a my_float értéke\", my_float, \".\", sep=\"\\n\")"
   ]
  },
  {
   "cell_type": "markdown",
   "id": "8cd3ccd6",
   "metadata": {},
   "source": [
    "Mint megfigyelhettük, alapvetően minden egyes print() kiírás külön sorban történik. Ennek a valódi oka az, hogy minden egyes print() parancsot egy \\n, sortörés karakter zár le. Ez a záró paraméter, és az elválasztó paraméterhez hasonlóan felülírható, az end kulcsszó használatával."
   ]
  },
  {
   "cell_type": "code",
   "execution_count": 17,
   "id": "22fc8e57",
   "metadata": {},
   "outputs": [
    {
     "name": "stdout",
     "output_type": "stream",
     "text": [
      "Első szövegMásodik szöveg"
     ]
    }
   ],
   "source": [
    "print(\"Első szöveg\", end=\"\")\n",
    "print(\"Második szöveg\", end=\"\")"
   ]
  },
  {
   "cell_type": "markdown",
   "id": "228bbd74",
   "metadata": {},
   "source": [
    "Mivel felülírtuk a záró paramétert, nem kerül beillesztésre a print()-re jellegzetes sortörés. Hasonlóképpen a sep paraméterhez, az end paraméter is tetszőleges szövegre állítható."
   ]
  },
  {
   "cell_type": "code",
   "execution_count": 18,
   "id": "bf007085",
   "metadata": {},
   "outputs": [
    {
     "name": "stdout",
     "output_type": "stream",
     "text": [
      "Első szöveg\n",
      "Második szövegHello World!\n",
      "Harmadik szöveg    Negyedik szöveg🤣Ötödik szöveg\n",
      "Overflow!"
     ]
    }
   ],
   "source": [
    "print(\"Első szöveg\", end=\"\\n\")\n",
    "print(\"Második szöveg\", end=\"Hello World!\\n\")\n",
    "print(\"Harmadik szöveg\", end=\"    \")\n",
    "print(\"Negyedik szöveg\", end=\"🤣\")\n",
    "print(\"Ötödik szöveg\", end=\"\\nOverflow!\")"
   ]
  },
  {
   "cell_type": "markdown",
   "id": "7a602ba6",
   "metadata": {},
   "source": [
    "## f-stringek\n",
    "Utolsó módszerünk változók print()-es kiírására az úgynevezett f-stringek. A kiírandó szöveget megnyitó és lezáró idézőjelek elé behelyezünk egy f betűt (a formázás szó rövidítése), és ezentúl a változók neveit kapcsos zárójelekbe (AltGr+B, AltGr+N) foglalva könnyen ki tudjuk íratni."
   ]
  },
  {
   "cell_type": "code",
   "execution_count": 19,
   "id": "55edb2bb",
   "metadata": {},
   "outputs": [
    {
     "name": "stdout",
     "output_type": "stream",
     "text": [
      "A my_str értéke: Hello world!\n",
      "A my_int értéke: 121\n",
      "A my_float értéke: 1.618\n",
      "A my_str értéke Hello world!, a my_int értéke 121, a my_float értéke 1.618.\n"
     ]
    }
   ],
   "source": [
    "print(f\"A my_str értéke: {my_str}\")\n",
    "print(f\"A my_int értéke: {my_int}\")\n",
    "print(f\"A my_float értéke: {my_float}\")\n",
    "print(f\"A my_str értéke {my_str}, a my_int értéke {my_int}, a my_float értéke {my_float}.\")"
   ]
  },
  {
   "cell_type": "markdown",
   "id": "4dd634d6",
   "metadata": {},
   "source": [
    "Ezzel a módszerrel tehetjük a legátláthatóbbá a kódunkat, és erősen javasolt a használata."
   ]
  }
 ],
 "metadata": {
  "celltoolbar": "Tags",
  "kernelspec": {
   "display_name": "Python 3 (ipykernel)",
   "language": "python",
   "name": "python3"
  },
  "language_info": {
   "codemirror_mode": {
    "name": "ipython",
    "version": 3
   },
   "file_extension": ".py",
   "mimetype": "text/x-python",
   "name": "python",
   "nbconvert_exporter": "python",
   "pygments_lexer": "ipython3",
   "version": "3.10.6"
  }
 },
 "nbformat": 4,
 "nbformat_minor": 5
}
